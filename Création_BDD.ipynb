{
 "cells": [
  {
   "cell_type": "code",
   "execution_count": 15,
   "metadata": {},
   "outputs": [
    {
     "name": "stdout",
     "output_type": "stream",
     "text": [
      "✅ Base de données 'nutriprofil_final.db' générée avec succès.\n"
     ]
    }
   ],
   "source": [
    "import os\n",
    "import pandas as pd\n",
    "from sqlalchemy import create_engine, MetaData, Table, Column, Integer, String, Float, ForeignKey, event\n",
    "\n",
    "# === 1. Supprimer ancienne base ===\n",
    "db_path = \"nutriprofil_final.db\"\n",
    "if os.path.exists(db_path):\n",
    "    os.remove(db_path)\n",
    "\n",
    "# === 2. Créer l'engine + activer les foreign keys ===\n",
    "engine = create_engine(f\"sqlite:///{db_path}\")\n",
    "\n",
    "@event.listens_for(engine, \"connect\")\n",
    "def enforce_foreign_keys(dbapi_connection, connection_record):\n",
    "    cursor = dbapi_connection.cursor()\n",
    "    cursor.execute(\"PRAGMA foreign_keys = ON\")\n",
    "    cursor.close()\n",
    "\n",
    "# === 3. Définir les tables ===\n",
    "metadata = MetaData()\n",
    "\n",
    "dim_time = Table(\n",
    "    'dim_time', metadata,\n",
    "    Column('year_id', Integer, primary_key=True)\n",
    ")\n",
    "\n",
    "dim_family = Table(\n",
    "    'dim_family', metadata,\n",
    "    Column('family_id', Integer, primary_key=True, autoincrement=True),\n",
    "    Column('family_name', String, unique=True, nullable=False)\n",
    ")\n",
    "\n",
    "dim_food = Table(\n",
    "    'dim_food', metadata,\n",
    "    Column('food_id', Integer, primary_key=True, autoincrement=True),\n",
    "    Column('name', String, nullable=False),\n",
    "    Column('family_id', Integer, ForeignKey('dim_family.family_id')),\n",
    "    Column('Fibres', Float),\n",
    "    Column('Gras', Float),\n",
    "    Column('Glucides', Float),\n",
    "    Column('IG', Float),\n",
    "    Column('CG', Float),\n",
    "    Column('Proteines', Float)\n",
    ")\n",
    "\n",
    "fact_consumption = Table(\n",
    "    'fact_consumption', metadata,\n",
    "    Column('year_id', Integer, ForeignKey('dim_time.year_id'), primary_key=True),\n",
    "    Column('family_id', Integer, ForeignKey('dim_family.family_id'), primary_key=True),\n",
    "    Column('value', Float, nullable=False)\n",
    ")\n",
    "\n",
    "fact_health = Table(\n",
    "    'fact_health', metadata,\n",
    "    Column('year_id', Integer, ForeignKey('dim_time.year_id'), primary_key=True),\n",
    "    Column('age_group_name', String, primary_key=True),\n",
    "    Column('sex_name', String, primary_key=True),\n",
    "    Column('diabete_prev', Float),\n",
    "    Column('obesite_prev', Float),\n",
    "    Column('hypertension_prev', Float),\n",
    "    Column('mcv_mort_rate', Float),\n",
    "    Column('cancercolorectal_mort', Float),\n",
    "    Column('alzheimer_mort', Float),\n",
    "    Column('ssbs', Float),\n",
    "    Column('fiber', Float),\n",
    "    Column('sodium', Float),\n",
    "    Column('transfat', Float)\n",
    ")\n",
    "\n",
    "food_health_link = Table(\n",
    "    'food_health_link', metadata,\n",
    "    Column('link_id', Integer, primary_key=True, autoincrement=True),\n",
    "    Column('food_id', Integer, ForeignKey('dim_food.food_id')),\n",
    "    Column('indicateur', String),\n",
    "    Column('effet', String),\n",
    "    Column('seuil_description', String),\n",
    "    Column('direction', String),\n",
    "    Column('source', String)\n",
    ")\n",
    "\n",
    "# === 4. Créer les tables ===\n",
    "metadata.create_all(engine)\n",
    "\n",
    "# === 5. Charger les CSV ===\n",
    "df_cons = pd.read_csv(\"/Users/coulibalykani/Desktop/Projet 3/nutriprofil/Dataframe/previsions_conso_ML_Lasso.csv\")\n",
    "df_food = pd.read_csv(\"/Users/coulibalykani/Desktop/Projet 3/nutriprofil/Dataframe/DF_Aliment_NUTRIPROFIL.csv\")\n",
    "df_health = pd.read_csv(\"/Users/coulibalykani/Desktop/Projet 3/nutriprofil/Dataframe/france_nutrition_sante_fusionfinal.csv\")\n",
    "\n",
    "# === 6. Nettoyage familles (harmonisation) ===\n",
    "if \"Famille de produits\" not in df_cons.columns:\n",
    "    raise KeyError(\"La colonne 'Famille de produits' est absente du fichier de consommation.\")\n",
    "\n",
    "mapping_familles = {\n",
    "    'Céréales et produits à base de céréales (riz, pâtes, etc)': 'Céréales',\n",
    "    'Viandes': 'Produits animaux',\n",
    "    'Poissons et autres fruits de mer ': 'Produits animaux',\n",
    "    'Lait, produits laitiers divers et œufs ': 'Produits laitiers',\n",
    "    'Huiles et graisses ': 'Aides culinaires',\n",
    "    'Fruits et fruits à coque ': 'Fruits et légumes',\n",
    "    'Légumes, tubercules, bananes plantains, bananes de cuisine et légumes secs ': 'Fruits et légumes',\n",
    "    'Sucre, confiserie et desserts ': 'Produits sucrés',\n",
    "    'Plats préparés et autres produits alimentaires ': 'Plats préparés',\n",
    "    'Jus de fruits et de légumes ': 'Boissons',\n",
    "    'Café et succédanés de café ': 'Boissons',\n",
    "    'Thé, maté et autres produits d’origine végétale pour tisanes ': 'Boissons',\n",
    "    'Eau ': 'Boissons',\n",
    "    'Sodas': 'Boissons',\n",
    "    'Autres boissons non alcoolisées ': 'Boissons',\n",
    "    'Spiritueux et liqueurs ': 'Boissons',\n",
    "    'Vin': 'Boissons',\n",
    "    'Bière ': 'Boissons',\n",
    "    'Autres boissons alcoolisées ': 'Boissons'\n",
    "}\n",
    "\n",
    "df_cons[\"famille_nette\"] = df_cons[\"Famille de produits\"].map(mapping_familles)\n",
    "df_fam = pd.DataFrame(df_cons[\"famille_nette\"].dropna().unique(), columns=[\"family_name\"])\n",
    "df_fam = df_fam.drop_duplicates().reset_index(drop=True)\n",
    "df_fam.to_sql(\"dim_family\", engine, if_exists=\"replace\", index_label=\"family_id\")\n",
    "\n",
    "# === 7. dim_time ===\n",
    "annees_cons = df_cons.columns.difference([\"Famille de produits\", \"famille_nette\"]).astype(int)\n",
    "\n",
    "annees_sante = df_health[\"year_id\"].unique()\n",
    "years = pd.DataFrame({\"year_id\": sorted(set(annees_cons) | set(annees_sante))})\n",
    "years.to_sql(\"dim_time\", engine, if_exists=\"replace\", index=False)\n",
    "\n",
    "# === 8. dim_food ===\n",
    "df_fam_db = pd.read_sql_table(\"dim_family\", engine)\n",
    "if \"Famille_regroupee\" not in df_food.columns:\n",
    "    raise KeyError(\"❌ 'Famille_regroupee' est manquante dans DF_Aliment_NUTRIPROFIL.csv\")\n",
    "\n",
    "df_food = df_food.rename(columns={\"Famille_regroupee\": \"family_name\", \"Aliment\": \"name\"})\n",
    "df_food = df_food.merge(df_fam_db, on=\"family_name\", how=\"left\")\n",
    "df_food[[\"name\", \"Fibres\", \"Gras\", \"Glucides\", \"IG\", \"CG\", \"Proteines\", \"family_id\"]].to_sql(\n",
    "    \"dim_food\", engine, if_exists=\"replace\", index_label=\"food_id\"\n",
    ")\n",
    "\n",
    "# === 9. fact_consumption ===\n",
    "df_melt = df_cons.melt(id_vars=[\"Famille de produits\", \"famille_nette\"], var_name=\"year_id\", value_name=\"value\")\n",
    "df_melt[\"year_id\"] = df_melt[\"year_id\"].astype(int)\n",
    "df_melt = df_melt.merge(df_fam_db, left_on=\"famille_nette\", right_on=\"family_name\", how=\"left\")\n",
    "df_melt[[\"year_id\", \"family_id\", \"value\"]].to_sql(\"fact_consumption\", engine, if_exists=\"replace\", index=False)\n",
    "\n",
    "# === 10. fact_health ===\n",
    "df_health.to_sql(\"fact_health\", engine, if_exists=\"replace\", index=False)\n",
    "\n",
    "# === 11. food_health_link (exemples) ===\n",
    "food_health_data = pd.DataFrame([\n",
    "    {\n",
    "        'food_id': 1,\n",
    "        'indicateur': 'diabete_prev',\n",
    "        'effet': '+9% risque de diabète',\n",
    "        'seuil_description': 'par +10g/j de sucres ajoutés',\n",
    "        'direction': 'augmentation',\n",
    "        'source': 'GBD 2019'\n",
    "    },\n",
    "    {\n",
    "        'food_id': 1,\n",
    "        'indicateur': 'mcv_mort_rate',\n",
    "        'effet': '+12% mortalité cardiovasculaire',\n",
    "        'seuil_description': 'par 100ml/j de soda',\n",
    "        'direction': 'augmentation',\n",
    "        'source': 'Lancet Study'\n",
    "    }\n",
    "])\n",
    "food_health_data.to_sql(\"food_health_link\", engine, if_exists=\"replace\", index=False)\n",
    "\n",
    "print(\"✅ Base de données 'nutriprofil_final.db' générée avec succès.\")\n"
   ]
  },
  {
   "cell_type": "code",
   "execution_count": 6,
   "metadata": {},
   "outputs": [
    {
     "data": {
      "text/plain": [
       "array(['Boissons', 'Produits animaux', 'Plats préparés',\n",
       "       'Produits laitiers', 'Aides culinaires', 'Produits sucrés',\n",
       "       'Fruits et légumes', 'Céréales', 'Fruits et lÃ©gumes', 'Autres'],\n",
       "      dtype=object)"
      ]
     },
     "execution_count": 6,
     "metadata": {},
     "output_type": "execute_result"
    }
   ],
   "source": [
    "df_food['family_name'].unique()  # Afficher les familles uniques pour vérification"
   ]
  },
  {
   "cell_type": "code",
   "execution_count": 7,
   "metadata": {},
   "outputs": [
    {
     "data": {
      "text/plain": [
       "array(['Céréales et produits à base de céréales (riz, pâtes, etc)',\n",
       "       'Viandes', 'Poissons et autres fruits de mer ',\n",
       "       'Lait, produits laitiers divers et œufs ', 'Huiles et graisses ',\n",
       "       'Fruits et fruits à coque ',\n",
       "       'Légumes, tubercules, bananes plantains, bananes de cuisine et légumes secs ',\n",
       "       'Sucre, confiserie et desserts ',\n",
       "       'Plats préparés et autres produits alimentaires ',\n",
       "       'Jus de fruits et de légumes ', 'Café et succédanés de café ',\n",
       "       'Thé, maté et autres produits d’origine végétale pour tisanes ',\n",
       "       'Eau ', 'Sodas', 'Autres boissons non alcoolisées ',\n",
       "       'Spiritueux et liqueurs ', 'Vin', 'Bière ',\n",
       "       'Autres boissons alcoolisées '], dtype=object)"
      ]
     },
     "execution_count": 7,
     "metadata": {},
     "output_type": "execute_result"
    }
   ],
   "source": [
    "df_cons['famille'].unique()  # Afficher les familles uniques pour vérification"
   ]
  },
  {
   "cell_type": "code",
   "execution_count": 10,
   "metadata": {},
   "outputs": [
    {
     "name": "stdout",
     "output_type": "stream",
     "text": [
      "Index(['Famille de produits', '2000', '2001', '2002', '2003', '2004', '2005',\n",
      "       '2006', '2007', '2008', '2009', '2010', '2011', '2012', '2013', '2014',\n",
      "       '2015', '2016', '2017', '2018', '2019', '2020', '2021', '2022', '2023',\n",
      "       '2024', '2025', '2026', '2027'],\n",
      "      dtype='object')\n"
     ]
    }
   ],
   "source": [
    "print(df_cons.columns)\n"
   ]
  }
 ],
 "metadata": {
  "kernelspec": {
   "display_name": "projet3",
   "language": "python",
   "name": "python3"
  },
  "language_info": {
   "codemirror_mode": {
    "name": "ipython",
    "version": 3
   },
   "file_extension": ".py",
   "mimetype": "text/x-python",
   "name": "python",
   "nbconvert_exporter": "python",
   "pygments_lexer": "ipython3",
   "version": "3.9.6"
  }
 },
 "nbformat": 4,
 "nbformat_minor": 2
}
