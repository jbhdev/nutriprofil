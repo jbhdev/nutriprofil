{
 "cells": [
  {
   "cell_type": "code",
   "execution_count": 2,
   "id": "ea867b93",
   "metadata": {},
   "outputs": [
    {
     "data": {
      "text/html": [
       "<div>\n",
       "<style scoped>\n",
       "    .dataframe tbody tr th:only-of-type {\n",
       "        vertical-align: middle;\n",
       "    }\n",
       "\n",
       "    .dataframe tbody tr th {\n",
       "        vertical-align: top;\n",
       "    }\n",
       "\n",
       "    .dataframe thead th {\n",
       "        text-align: right;\n",
       "    }\n",
       "</style>\n",
       "<table border=\"1\" class=\"dataframe\">\n",
       "  <thead>\n",
       "    <tr style=\"text-align: right;\">\n",
       "      <th></th>\n",
       "      <th>Famille de produits</th>\n",
       "      <th>2000</th>\n",
       "      <th>2001</th>\n",
       "      <th>2002</th>\n",
       "      <th>2003</th>\n",
       "      <th>2004</th>\n",
       "      <th>2005</th>\n",
       "      <th>2006</th>\n",
       "      <th>2007</th>\n",
       "      <th>2008</th>\n",
       "      <th>...</th>\n",
       "      <th>2015</th>\n",
       "      <th>2016</th>\n",
       "      <th>2017</th>\n",
       "      <th>2018</th>\n",
       "      <th>2019</th>\n",
       "      <th>2020</th>\n",
       "      <th>2021</th>\n",
       "      <th>2022</th>\n",
       "      <th>2023</th>\n",
       "      <th>2024</th>\n",
       "    </tr>\n",
       "  </thead>\n",
       "  <tbody>\n",
       "    <tr>\n",
       "      <th>0</th>\n",
       "      <td>Céréales et produits à base de céréales (riz, ...</td>\n",
       "      <td>14 370</td>\n",
       "      <td>14 978</td>\n",
       "      <td>15 509</td>\n",
       "      <td>15 838</td>\n",
       "      <td>16 296</td>\n",
       "      <td>16 485</td>\n",
       "      <td>16 806</td>\n",
       "      <td>17 210</td>\n",
       "      <td>18 478</td>\n",
       "      <td>...</td>\n",
       "      <td>21 600</td>\n",
       "      <td>22 240</td>\n",
       "      <td>23 186</td>\n",
       "      <td>23 891</td>\n",
       "      <td>24 870</td>\n",
       "      <td>25 314</td>\n",
       "      <td>27 203</td>\n",
       "      <td>29 622</td>\n",
       "      <td>33 310</td>\n",
       "      <td>34 694</td>\n",
       "    </tr>\n",
       "    <tr>\n",
       "      <th>1</th>\n",
       "      <td>Viandes</td>\n",
       "      <td>22 455</td>\n",
       "      <td>23 868</td>\n",
       "      <td>24 597</td>\n",
       "      <td>25 185</td>\n",
       "      <td>25 508</td>\n",
       "      <td>26 056</td>\n",
       "      <td>26 551</td>\n",
       "      <td>27 155</td>\n",
       "      <td>27 834</td>\n",
       "      <td>...</td>\n",
       "      <td>30 989</td>\n",
       "      <td>30 725</td>\n",
       "      <td>30 574</td>\n",
       "      <td>30 389</td>\n",
       "      <td>30 259</td>\n",
       "      <td>32 812</td>\n",
       "      <td>31 621</td>\n",
       "      <td>31 628</td>\n",
       "      <td>33 716</td>\n",
       "      <td>33 306</td>\n",
       "    </tr>\n",
       "    <tr>\n",
       "      <th>2</th>\n",
       "      <td>Poissons et autres fruits de mer</td>\n",
       "      <td>5 742</td>\n",
       "      <td>6 009</td>\n",
       "      <td>6 216</td>\n",
       "      <td>6 488</td>\n",
       "      <td>6 472</td>\n",
       "      <td>6 459</td>\n",
       "      <td>6 713</td>\n",
       "      <td>6 863</td>\n",
       "      <td>6 944</td>\n",
       "      <td>...</td>\n",
       "      <td>7 307</td>\n",
       "      <td>7 485</td>\n",
       "      <td>7 408</td>\n",
       "      <td>7 271</td>\n",
       "      <td>7 309</td>\n",
       "      <td>7 783</td>\n",
       "      <td>7 837</td>\n",
       "      <td>7 513</td>\n",
       "      <td>7 502</td>\n",
       "      <td>7 301</td>\n",
       "    </tr>\n",
       "    <tr>\n",
       "      <th>3</th>\n",
       "      <td>Lait, produits laitiers divers et œufs</td>\n",
       "      <td>12 646</td>\n",
       "      <td>13 417</td>\n",
       "      <td>13 934</td>\n",
       "      <td>14 394</td>\n",
       "      <td>14 629</td>\n",
       "      <td>14 751</td>\n",
       "      <td>14 992</td>\n",
       "      <td>15 491</td>\n",
       "      <td>17 075</td>\n",
       "      <td>...</td>\n",
       "      <td>18 515</td>\n",
       "      <td>18 411</td>\n",
       "      <td>18 608</td>\n",
       "      <td>19 014</td>\n",
       "      <td>19 444</td>\n",
       "      <td>20 621</td>\n",
       "      <td>20 120</td>\n",
       "      <td>21 389</td>\n",
       "      <td>24 539</td>\n",
       "      <td>24 892</td>\n",
       "    </tr>\n",
       "    <tr>\n",
       "      <th>4</th>\n",
       "      <td>Huiles et graisses</td>\n",
       "      <td>2 575</td>\n",
       "      <td>2 620</td>\n",
       "      <td>2 641</td>\n",
       "      <td>2 660</td>\n",
       "      <td>2 673</td>\n",
       "      <td>2 680</td>\n",
       "      <td>2 786</td>\n",
       "      <td>2 751</td>\n",
       "      <td>2 980</td>\n",
       "      <td>...</td>\n",
       "      <td>3 093</td>\n",
       "      <td>3 050</td>\n",
       "      <td>3 152</td>\n",
       "      <td>3 307</td>\n",
       "      <td>3 425</td>\n",
       "      <td>3 755</td>\n",
       "      <td>3 538</td>\n",
       "      <td>3 900</td>\n",
       "      <td>4 211</td>\n",
       "      <td>4 338</td>\n",
       "    </tr>\n",
       "    <tr>\n",
       "      <th>5</th>\n",
       "      <td>Fruits et fruits à coque</td>\n",
       "      <td>5 395</td>\n",
       "      <td>6 026</td>\n",
       "      <td>6 478</td>\n",
       "      <td>6 708</td>\n",
       "      <td>6 917</td>\n",
       "      <td>6 994</td>\n",
       "      <td>7 196</td>\n",
       "      <td>7 335</td>\n",
       "      <td>7 524</td>\n",
       "      <td>...</td>\n",
       "      <td>9 207</td>\n",
       "      <td>9 898</td>\n",
       "      <td>9 991</td>\n",
       "      <td>10 252</td>\n",
       "      <td>10 371</td>\n",
       "      <td>11 492</td>\n",
       "      <td>11 197</td>\n",
       "      <td>11 799</td>\n",
       "      <td>12 038</td>\n",
       "      <td>12 235</td>\n",
       "    </tr>\n",
       "    <tr>\n",
       "      <th>6</th>\n",
       "      <td>Légumes, tubercules, bananes plantains, banane...</td>\n",
       "      <td>9 613</td>\n",
       "      <td>10 141</td>\n",
       "      <td>10 595</td>\n",
       "      <td>10 940</td>\n",
       "      <td>10 712</td>\n",
       "      <td>11 040</td>\n",
       "      <td>11 533</td>\n",
       "      <td>11 987</td>\n",
       "      <td>12 168</td>\n",
       "      <td>...</td>\n",
       "      <td>14 601</td>\n",
       "      <td>15 350</td>\n",
       "      <td>15 425</td>\n",
       "      <td>15 825</td>\n",
       "      <td>16 843</td>\n",
       "      <td>18 124</td>\n",
       "      <td>17 704</td>\n",
       "      <td>18 444</td>\n",
       "      <td>20 004</td>\n",
       "      <td>20 276</td>\n",
       "    </tr>\n",
       "    <tr>\n",
       "      <th>7</th>\n",
       "      <td>Sucre, confiserie et desserts</td>\n",
       "      <td>7 049</td>\n",
       "      <td>7 411</td>\n",
       "      <td>7 704</td>\n",
       "      <td>8 280</td>\n",
       "      <td>8 501</td>\n",
       "      <td>8 587</td>\n",
       "      <td>8 642</td>\n",
       "      <td>8 743</td>\n",
       "      <td>9 368</td>\n",
       "      <td>...</td>\n",
       "      <td>10 814</td>\n",
       "      <td>10 950</td>\n",
       "      <td>11 204</td>\n",
       "      <td>11 375</td>\n",
       "      <td>11 382</td>\n",
       "      <td>11 911</td>\n",
       "      <td>11 930</td>\n",
       "      <td>12 402</td>\n",
       "      <td>13 782</td>\n",
       "      <td>14 103</td>\n",
       "    </tr>\n",
       "    <tr>\n",
       "      <th>8</th>\n",
       "      <td>Plats préparés et autres produits alimentaires</td>\n",
       "      <td>7 891</td>\n",
       "      <td>8 307</td>\n",
       "      <td>8 721</td>\n",
       "      <td>9 268</td>\n",
       "      <td>9 893</td>\n",
       "      <td>10 265</td>\n",
       "      <td>10 653</td>\n",
       "      <td>11 215</td>\n",
       "      <td>12 040</td>\n",
       "      <td>...</td>\n",
       "      <td>13 902</td>\n",
       "      <td>14 437</td>\n",
       "      <td>15 107</td>\n",
       "      <td>15 279</td>\n",
       "      <td>15 670</td>\n",
       "      <td>16 627</td>\n",
       "      <td>17 410</td>\n",
       "      <td>18 550</td>\n",
       "      <td>20 066</td>\n",
       "      <td>20 529</td>\n",
       "    </tr>\n",
       "    <tr>\n",
       "      <th>9</th>\n",
       "      <td>Jus de fruits et de légumes</td>\n",
       "      <td>1 451</td>\n",
       "      <td>1 528</td>\n",
       "      <td>1 587</td>\n",
       "      <td>1 763</td>\n",
       "      <td>1 804</td>\n",
       "      <td>1 946</td>\n",
       "      <td>2 012</td>\n",
       "      <td>2 162</td>\n",
       "      <td>2 356</td>\n",
       "      <td>...</td>\n",
       "      <td>2 744</td>\n",
       "      <td>2 728</td>\n",
       "      <td>2 812</td>\n",
       "      <td>2 811</td>\n",
       "      <td>2 777</td>\n",
       "      <td>2 758</td>\n",
       "      <td>2 681</td>\n",
       "      <td>2 795</td>\n",
       "      <td>2 899</td>\n",
       "      <td>2 817</td>\n",
       "    </tr>\n",
       "    <tr>\n",
       "      <th>10</th>\n",
       "      <td>Café et succédanés de café</td>\n",
       "      <td>2 147</td>\n",
       "      <td>2 155</td>\n",
       "      <td>2 185</td>\n",
       "      <td>2 214</td>\n",
       "      <td>2 198</td>\n",
       "      <td>2 244</td>\n",
       "      <td>2 423</td>\n",
       "      <td>2 539</td>\n",
       "      <td>2 614</td>\n",
       "      <td>...</td>\n",
       "      <td>3 381</td>\n",
       "      <td>3 484</td>\n",
       "      <td>3 653</td>\n",
       "      <td>3 745</td>\n",
       "      <td>3 794</td>\n",
       "      <td>4 079</td>\n",
       "      <td>4 136</td>\n",
       "      <td>4 347</td>\n",
       "      <td>4 731</td>\n",
       "      <td>4 862</td>\n",
       "    </tr>\n",
       "    <tr>\n",
       "      <th>11</th>\n",
       "      <td>Thé, maté et autres produits d’origine végétal...</td>\n",
       "      <td>321</td>\n",
       "      <td>322</td>\n",
       "      <td>327</td>\n",
       "      <td>331</td>\n",
       "      <td>329</td>\n",
       "      <td>335</td>\n",
       "      <td>362</td>\n",
       "      <td>379</td>\n",
       "      <td>391</td>\n",
       "      <td>...</td>\n",
       "      <td>505</td>\n",
       "      <td>521</td>\n",
       "      <td>546</td>\n",
       "      <td>560</td>\n",
       "      <td>567</td>\n",
       "      <td>610</td>\n",
       "      <td>618</td>\n",
       "      <td>650</td>\n",
       "      <td>707</td>\n",
       "      <td>727</td>\n",
       "    </tr>\n",
       "    <tr>\n",
       "      <th>12</th>\n",
       "      <td>Eau</td>\n",
       "      <td>1 531</td>\n",
       "      <td>1 615</td>\n",
       "      <td>1 684</td>\n",
       "      <td>1 926</td>\n",
       "      <td>1 970</td>\n",
       "      <td>2 013</td>\n",
       "      <td>2 043</td>\n",
       "      <td>2 081</td>\n",
       "      <td>2 001</td>\n",
       "      <td>...</td>\n",
       "      <td>2 271</td>\n",
       "      <td>2 292</td>\n",
       "      <td>2 417</td>\n",
       "      <td>2 503</td>\n",
       "      <td>2 500</td>\n",
       "      <td>2 503</td>\n",
       "      <td>2 434</td>\n",
       "      <td>2 610</td>\n",
       "      <td>2 704</td>\n",
       "      <td>2 660</td>\n",
       "    </tr>\n",
       "    <tr>\n",
       "      <th>13</th>\n",
       "      <td>Sodas</td>\n",
       "      <td>1 020</td>\n",
       "      <td>1 110</td>\n",
       "      <td>1 163</td>\n",
       "      <td>1 306</td>\n",
       "      <td>1 319</td>\n",
       "      <td>1 328</td>\n",
       "      <td>1 389</td>\n",
       "      <td>1 494</td>\n",
       "      <td>1 566</td>\n",
       "      <td>...</td>\n",
       "      <td>2 218</td>\n",
       "      <td>2 205</td>\n",
       "      <td>2 237</td>\n",
       "      <td>2 296</td>\n",
       "      <td>2 336</td>\n",
       "      <td>2 388</td>\n",
       "      <td>2 487</td>\n",
       "      <td>2 812</td>\n",
       "      <td>3 065</td>\n",
       "      <td>3 046</td>\n",
       "    </tr>\n",
       "    <tr>\n",
       "      <th>14</th>\n",
       "      <td>Autres boissons non alcoolisées</td>\n",
       "      <td>611</td>\n",
       "      <td>662</td>\n",
       "      <td>693</td>\n",
       "      <td>778</td>\n",
       "      <td>786</td>\n",
       "      <td>798</td>\n",
       "      <td>833</td>\n",
       "      <td>896</td>\n",
       "      <td>943</td>\n",
       "      <td>...</td>\n",
       "      <td>1 310</td>\n",
       "      <td>1 302</td>\n",
       "      <td>1 323</td>\n",
       "      <td>1 355</td>\n",
       "      <td>1 374</td>\n",
       "      <td>1 402</td>\n",
       "      <td>1 451</td>\n",
       "      <td>1 630</td>\n",
       "      <td>1 771</td>\n",
       "      <td>1 757</td>\n",
       "    </tr>\n",
       "    <tr>\n",
       "      <th>15</th>\n",
       "      <td>Spiritueux et liqueurs</td>\n",
       "      <td>4 290</td>\n",
       "      <td>4 413</td>\n",
       "      <td>4 569</td>\n",
       "      <td>4 542</td>\n",
       "      <td>4 578</td>\n",
       "      <td>4 572</td>\n",
       "      <td>4 674</td>\n",
       "      <td>4 691</td>\n",
       "      <td>4 703</td>\n",
       "      <td>...</td>\n",
       "      <td>5 441</td>\n",
       "      <td>5 524</td>\n",
       "      <td>5 440</td>\n",
       "      <td>5 369</td>\n",
       "      <td>5 463</td>\n",
       "      <td>5 803</td>\n",
       "      <td>5 923</td>\n",
       "      <td>5 675</td>\n",
       "      <td>5 675</td>\n",
       "      <td>5 459</td>\n",
       "    </tr>\n",
       "    <tr>\n",
       "      <th>16</th>\n",
       "      <td>Vin</td>\n",
       "      <td>8 617</td>\n",
       "      <td>8 878</td>\n",
       "      <td>9 157</td>\n",
       "      <td>9 064</td>\n",
       "      <td>9 344</td>\n",
       "      <td>9 198</td>\n",
       "      <td>9 263</td>\n",
       "      <td>9 615</td>\n",
       "      <td>9 871</td>\n",
       "      <td>...</td>\n",
       "      <td>11 322</td>\n",
       "      <td>11 289</td>\n",
       "      <td>11 312</td>\n",
       "      <td>11 309</td>\n",
       "      <td>10 702</td>\n",
       "      <td>10 551</td>\n",
       "      <td>10 603</td>\n",
       "      <td>10 400</td>\n",
       "      <td>10 454</td>\n",
       "      <td>10 227</td>\n",
       "    </tr>\n",
       "    <tr>\n",
       "      <th>17</th>\n",
       "      <td>Bière</td>\n",
       "      <td>2 301</td>\n",
       "      <td>2 338</td>\n",
       "      <td>2 416</td>\n",
       "      <td>2 566</td>\n",
       "      <td>2 496</td>\n",
       "      <td>2 478</td>\n",
       "      <td>2 498</td>\n",
       "      <td>2 470</td>\n",
       "      <td>2 298</td>\n",
       "      <td>...</td>\n",
       "      <td>3 251</td>\n",
       "      <td>3 454</td>\n",
       "      <td>3 749</td>\n",
       "      <td>4 061</td>\n",
       "      <td>4 253</td>\n",
       "      <td>4 708</td>\n",
       "      <td>4 937</td>\n",
       "      <td>5 055</td>\n",
       "      <td>5 366</td>\n",
       "      <td>5 354</td>\n",
       "    </tr>\n",
       "    <tr>\n",
       "      <th>18</th>\n",
       "      <td>Autres boissons alcoolisées</td>\n",
       "      <td>149</td>\n",
       "      <td>152</td>\n",
       "      <td>157</td>\n",
       "      <td>164</td>\n",
       "      <td>162</td>\n",
       "      <td>161</td>\n",
       "      <td>164</td>\n",
       "      <td>163</td>\n",
       "      <td>156</td>\n",
       "      <td>...</td>\n",
       "      <td>211</td>\n",
       "      <td>223</td>\n",
       "      <td>237</td>\n",
       "      <td>251</td>\n",
       "      <td>262</td>\n",
       "      <td>288</td>\n",
       "      <td>301</td>\n",
       "      <td>304</td>\n",
       "      <td>319</td>\n",
       "      <td>316</td>\n",
       "    </tr>\n",
       "  </tbody>\n",
       "</table>\n",
       "<p>19 rows × 26 columns</p>\n",
       "</div>"
      ],
      "text/plain": [
       "                                  Famille de produits    2000    2001    2002  \\\n",
       "0   Céréales et produits à base de céréales (riz, ...  14 370  14 978  15 509   \n",
       "1                                             Viandes  22 455  23 868  24 597   \n",
       "2                   Poissons et autres fruits de mer    5 742   6 009   6 216   \n",
       "3             Lait, produits laitiers divers et œufs   12 646  13 417  13 934   \n",
       "4                                 Huiles et graisses    2 575   2 620   2 641   \n",
       "5                           Fruits et fruits à coque    5 395   6 026   6 478   \n",
       "6   Légumes, tubercules, bananes plantains, banane...   9 613  10 141  10 595   \n",
       "7                      Sucre, confiserie et desserts    7 049   7 411   7 704   \n",
       "8     Plats préparés et autres produits alimentaires    7 891   8 307   8 721   \n",
       "9                        Jus de fruits et de légumes    1 451   1 528   1 587   \n",
       "10                        Café et succédanés de café    2 147   2 155   2 185   \n",
       "11  Thé, maté et autres produits d’origine végétal...     321     322     327   \n",
       "12                                               Eau    1 531   1 615   1 684   \n",
       "13                                              Sodas   1 020   1 110   1 163   \n",
       "14                   Autres boissons non alcoolisées      611     662     693   \n",
       "15                            Spiritueux et liqueurs    4 290   4 413   4 569   \n",
       "16                                                Vin   8 617   8 878   9 157   \n",
       "17                                             Bière    2 301   2 338   2 416   \n",
       "18                       Autres boissons alcoolisées      149     152     157   \n",
       "\n",
       "      2003    2004    2005    2006    2007    2008  ...    2015    2016  \\\n",
       "0   15 838  16 296  16 485  16 806  17 210  18 478  ...  21 600  22 240   \n",
       "1   25 185  25 508  26 056  26 551  27 155  27 834  ...  30 989  30 725   \n",
       "2    6 488   6 472   6 459   6 713   6 863   6 944  ...   7 307   7 485   \n",
       "3   14 394  14 629  14 751  14 992  15 491  17 075  ...  18 515  18 411   \n",
       "4    2 660   2 673   2 680   2 786   2 751   2 980  ...   3 093   3 050   \n",
       "5    6 708   6 917   6 994   7 196   7 335   7 524  ...   9 207   9 898   \n",
       "6   10 940  10 712  11 040  11 533  11 987  12 168  ...  14 601  15 350   \n",
       "7    8 280   8 501   8 587   8 642   8 743   9 368  ...  10 814  10 950   \n",
       "8    9 268   9 893  10 265  10 653  11 215  12 040  ...  13 902  14 437   \n",
       "9    1 763   1 804   1 946   2 012   2 162   2 356  ...   2 744   2 728   \n",
       "10   2 214   2 198   2 244   2 423   2 539   2 614  ...   3 381   3 484   \n",
       "11     331     329     335     362     379     391  ...     505     521   \n",
       "12   1 926   1 970   2 013   2 043   2 081   2 001  ...   2 271   2 292   \n",
       "13   1 306   1 319   1 328   1 389   1 494   1 566  ...   2 218   2 205   \n",
       "14     778     786     798     833     896     943  ...   1 310   1 302   \n",
       "15   4 542   4 578   4 572   4 674   4 691   4 703  ...   5 441   5 524   \n",
       "16   9 064   9 344   9 198   9 263   9 615   9 871  ...  11 322  11 289   \n",
       "17   2 566   2 496   2 478   2 498   2 470   2 298  ...   3 251   3 454   \n",
       "18     164     162     161     164     163     156  ...     211     223   \n",
       "\n",
       "      2017    2018    2019    2020    2021    2022    2023    2024  \n",
       "0   23 186  23 891  24 870  25 314  27 203  29 622  33 310  34 694  \n",
       "1   30 574  30 389  30 259  32 812  31 621  31 628  33 716  33 306  \n",
       "2    7 408   7 271   7 309   7 783   7 837   7 513   7 502   7 301  \n",
       "3   18 608  19 014  19 444  20 621  20 120  21 389  24 539  24 892  \n",
       "4    3 152   3 307   3 425   3 755   3 538   3 900   4 211   4 338  \n",
       "5    9 991  10 252  10 371  11 492  11 197  11 799  12 038  12 235  \n",
       "6   15 425  15 825  16 843  18 124  17 704  18 444  20 004  20 276  \n",
       "7   11 204  11 375  11 382  11 911  11 930  12 402  13 782  14 103  \n",
       "8   15 107  15 279  15 670  16 627  17 410  18 550  20 066  20 529  \n",
       "9    2 812   2 811   2 777   2 758   2 681   2 795   2 899   2 817  \n",
       "10   3 653   3 745   3 794   4 079   4 136   4 347   4 731   4 862  \n",
       "11     546     560     567     610     618     650     707     727  \n",
       "12   2 417   2 503   2 500   2 503   2 434   2 610   2 704   2 660  \n",
       "13   2 237   2 296   2 336   2 388   2 487   2 812   3 065   3 046  \n",
       "14   1 323   1 355   1 374   1 402   1 451   1 630   1 771   1 757  \n",
       "15   5 440   5 369   5 463   5 803   5 923   5 675   5 675   5 459  \n",
       "16  11 312  11 309  10 702  10 551  10 603  10 400  10 454  10 227  \n",
       "17   3 749   4 061   4 253   4 708   4 937   5 055   5 366   5 354  \n",
       "18     237     251     262     288     301     304     319     316  \n",
       "\n",
       "[19 rows x 26 columns]"
      ]
     },
     "execution_count": 2,
     "metadata": {},
     "output_type": "execute_result"
    }
   ],
   "source": [
    "import pandas as pd\n",
    "conso_men = pd.read_csv(\"../datasets/consommation/conso-menages-2024.csv\")\n",
    "# Renommer la catégorie\n",
    "conso_men['Famille de produits'] = conso_men['Famille de produits'].replace(\n",
    "    'Céréales et produits à base de céréales', \n",
    "    'Riz, pâtes et céréales'\n",
    ")\n",
    "#conso_men['Famille de produits'].unique()\n",
    "conso_men\n"
   ]
  },
  {
   "cell_type": "code",
   "execution_count": 3,
   "id": "5e60b9f6",
   "metadata": {},
   "outputs": [
    {
     "data": {
      "application/vnd.plotly.v1+json": {
       "config": {
        "plotlyServerURL": "https://plot.ly"
       },
       "data": [
        {
         "hovertemplate": "Famille de produits=Céréales et produits à base de céréales (riz, pâtes, etc)<br>Année=%{x}<br>Dépenses (en millions d'euros)=%{y}<extra></extra>",
         "legendgroup": "Céréales et produits à base de céréales (riz, pâtes, etc)",
         "marker": {
          "color": "#636efa",
          "pattern": {
           "shape": ""
          }
         },
         "name": "Céréales et produits à base de céréales (riz, pâtes, etc)",
         "orientation": "v",
         "showlegend": true,
         "textposition": "none",
         "texttemplate": "",
         "type": "bar",
         "x": [
          "2000",
          "2001",
          "2002",
          "2003",
          "2004",
          "2005",
          "2006",
          "2007",
          "2008",
          "2009",
          "2010",
          "2011",
          "2012",
          "2013",
          "2014",
          "2015",
          "2016",
          "2017",
          "2018",
          "2019",
          "2020",
          "2021",
          "2022",
          "2023",
          "2024"
         ],
         "xaxis": "x",
         "y": {
          "bdata": "AAAAAAARzEAAAAAAAEHNQAAAAACASs5AAAAAAADvzkAAAAAAANTPQAAAAABAGdBAAAAAAIBp0EAAAAAAgM7QQAAAAACAC9JAAAAAAMBf0kAAAAAAAKHSQAAAAACArNNAAAAAAIAu1EAAAAAAALDUQAAAAABA8dRAAAAAAAAY1UAAAAAAALjVQAAAAACApNZAAAAAAMBU10AAAAAAgEnYQAAAAACAuNhAAAAAAMCQ2kAAAAAAgO3cQAAAAADAQ+BAAAAAAMDw4EA=",
          "dtype": "f8"
         },
         "yaxis": "y"
        },
        {
         "hovertemplate": "Famille de produits=Viandes<br>Année=%{x}<br>Dépenses (en millions d'euros)=%{y}<extra></extra>",
         "legendgroup": "Viandes",
         "marker": {
          "color": "#EF553B",
          "pattern": {
           "shape": ""
          }
         },
         "name": "Viandes",
         "orientation": "v",
         "showlegend": true,
         "textposition": "none",
         "texttemplate": "",
         "type": "bar",
         "x": [
          "2000",
          "2001",
          "2002",
          "2003",
          "2004",
          "2005",
          "2006",
          "2007",
          "2008",
          "2009",
          "2010",
          "2011",
          "2012",
          "2013",
          "2014",
          "2015",
          "2016",
          "2017",
          "2018",
          "2019",
          "2020",
          "2021",
          "2022",
          "2023",
          "2024"
         ],
         "xaxis": "x",
         "y": {
          "bdata": "AAAAAMDt1UAAAAAAAE/XQAAAAABABdhAAAAAAECY2EAAAAAAAOnYQAAAAAAActlAAAAAAMDt2UAAAAAAwITaQAAAAACALttAAAAAAIAK20AAAAAAwO/bQAAAAACAwtxAAAAAAECY3UAAAAAAwF/eQAAAAADAYd5AAAAAAEBD3kAAAAAAQAHeQAAAAACA291AAAAAAECt3UAAAAAAwIzdQAAAAACABeBAAAAAAEDh3kAAAAAAAOPeQAAAAACAduBAAAAAAEBD4EA=",
          "dtype": "f8"
         },
         "yaxis": "y"
        },
        {
         "hovertemplate": "Famille de produits=Poissons et autres fruits de mer <br>Année=%{x}<br>Dépenses (en millions d'euros)=%{y}<extra></extra>",
         "legendgroup": "Poissons et autres fruits de mer ",
         "marker": {
          "color": "#00cc96",
          "pattern": {
           "shape": ""
          }
         },
         "name": "Poissons et autres fruits de mer ",
         "orientation": "v",
         "showlegend": true,
         "textposition": "none",
         "texttemplate": "",
         "type": "bar",
         "x": [
          "2000",
          "2001",
          "2002",
          "2003",
          "2004",
          "2005",
          "2006",
          "2007",
          "2008",
          "2009",
          "2010",
          "2011",
          "2012",
          "2013",
          "2014",
          "2015",
          "2016",
          "2017",
          "2018",
          "2019",
          "2020",
          "2021",
          "2022",
          "2023",
          "2024"
         ],
         "xaxis": "x",
         "y": {
          "bdata": "AAAAAAButkAAAAAAAHm3QAAAAAAASLhAAAAAAABYuUAAAAAAAEi5QAAAAAAAO7lAAAAAAAA5ukAAAAAAAM+6QAAAAAAAILtAAAAAAABzu0AAAAAAAFe8QAAAAAAAlbxAAAAAAACyvEAAAAAAAMK8QAAAAAAAqbxAAAAAAACLvEAAAAAAAD29QAAAAAAA8LxAAAAAAABnvEAAAAAAAI28QAAAAAAAZ75AAAAAAACdvkAAAAAAAFm9QAAAAAAATr1AAAAAAACFvEA=",
          "dtype": "f8"
         },
         "yaxis": "y"
        },
        {
         "hovertemplate": "Famille de produits=Lait, produits laitiers divers et œufs <br>Année=%{x}<br>Dépenses (en millions d'euros)=%{y}<extra></extra>",
         "legendgroup": "Lait, produits laitiers divers et œufs ",
         "marker": {
          "color": "#ab63fa",
          "pattern": {
           "shape": ""
          }
         },
         "name": "Lait, produits laitiers divers et œufs ",
         "orientation": "v",
         "showlegend": true,
         "textposition": "none",
         "texttemplate": "",
         "type": "bar",
         "x": [
          "2000",
          "2001",
          "2002",
          "2003",
          "2004",
          "2005",
          "2006",
          "2007",
          "2008",
          "2009",
          "2010",
          "2011",
          "2012",
          "2013",
          "2014",
          "2015",
          "2016",
          "2017",
          "2018",
          "2019",
          "2020",
          "2021",
          "2022",
          "2023",
          "2024"
         ],
         "xaxis": "x",
         "y": {
          "bdata": "AAAAAACzyEAAAAAAgDTKQAAAAAAAN8tAAAAAAAAdzEAAAAAAgJLMQAAAAACAz8xAAAAAAABIzUAAAAAAgEHOQAAAAADArNBAAAAAAICp0EAAAAAAQNXQQAAAAACAgNFAAAAAAMAB0kAAAAAAgA7SQAAAAADAJNJAAAAAAMAU0kAAAAAAwPrRQAAAAAAALNJAAAAAAICR0kAAAAAAAP3SQAAAAABAI9RAAAAAAACm00AAAAAAQOPUQAAAAADA9tdAAAAAAABP2EA=",
          "dtype": "f8"
         },
         "yaxis": "y"
        },
        {
         "hovertemplate": "Famille de produits=Huiles et graisses <br>Année=%{x}<br>Dépenses (en millions d'euros)=%{y}<extra></extra>",
         "legendgroup": "Huiles et graisses ",
         "marker": {
          "color": "#FFA15A",
          "pattern": {
           "shape": ""
          }
         },
         "name": "Huiles et graisses ",
         "orientation": "v",
         "showlegend": true,
         "textposition": "none",
         "texttemplate": "",
         "type": "bar",
         "x": [
          "2000",
          "2001",
          "2002",
          "2003",
          "2004",
          "2005",
          "2006",
          "2007",
          "2008",
          "2009",
          "2010",
          "2011",
          "2012",
          "2013",
          "2014",
          "2015",
          "2016",
          "2017",
          "2018",
          "2019",
          "2020",
          "2021",
          "2022",
          "2023",
          "2024"
         ],
         "xaxis": "x",
         "y": {
          "bdata": "AAAAAAAepEAAAAAAAHikQAAAAAAAoqRAAAAAAADIpEAAAAAAAOKkQAAAAAAA8KRAAAAAAADEpUAAAAAAAH6lQAAAAAAASKdAAAAAAAC2pkAAAAAAALKlQAAAAAAA+KZAAAAAAABkp0AAAAAAAPanQAAAAAAALqhAAAAAAAAqqEAAAAAAANSnQAAAAAAAoKhAAAAAAADWqUAAAAAAAMKqQAAAAAAAVq1AAAAAAACkq0AAAAAAAHiuQAAAAAAAc7BAAAAAAADysEA=",
          "dtype": "f8"
         },
         "yaxis": "y"
        },
        {
         "hovertemplate": "Famille de produits=Fruits et fruits à coque <br>Année=%{x}<br>Dépenses (en millions d'euros)=%{y}<extra></extra>",
         "legendgroup": "Fruits et fruits à coque ",
         "marker": {
          "color": "#19d3f3",
          "pattern": {
           "shape": ""
          }
         },
         "name": "Fruits et fruits à coque ",
         "orientation": "v",
         "showlegend": true,
         "textposition": "none",
         "texttemplate": "",
         "type": "bar",
         "x": [
          "2000",
          "2001",
          "2002",
          "2003",
          "2004",
          "2005",
          "2006",
          "2007",
          "2008",
          "2009",
          "2010",
          "2011",
          "2012",
          "2013",
          "2014",
          "2015",
          "2016",
          "2017",
          "2018",
          "2019",
          "2020",
          "2021",
          "2022",
          "2023",
          "2024"
         ],
         "xaxis": "x",
         "y": {
          "bdata": "AAAAAAATtUAAAAAAAIq3QAAAAAAATrlAAAAAAAA0ukAAAAAAAAW7QAAAAAAAUrtAAAAAAAAcvEAAAAAAAKe8QAAAAAAAZL1AAAAAAADPvEAAAAAAANi+QAAAAAAA9b1AAAAAAAAuwEAAAAAAABTBQAAAAACA4cBAAAAAAID7wUAAAAAAAFXDQAAAAACAg8NAAAAAAAAGxEAAAAAAgEHEQAAAAAAAcsZAAAAAAIDexUAAAAAAgAvHQAAAAAAAg8dAAAAAAIDlx0A=",
          "dtype": "f8"
         },
         "yaxis": "y"
        },
        {
         "hovertemplate": "Famille de produits=Légumes, tubercules, bananes plantains, bananes de cuisine et légumes secs <br>Année=%{x}<br>Dépenses (en millions d'euros)=%{y}<extra></extra>",
         "legendgroup": "Légumes, tubercules, bananes plantains, bananes de cuisine et légumes secs ",
         "marker": {
          "color": "#FF6692",
          "pattern": {
           "shape": ""
          }
         },
         "name": "Légumes, tubercules, bananes plantains, bananes de cuisine et légumes secs ",
         "orientation": "v",
         "showlegend": true,
         "textposition": "none",
         "texttemplate": "",
         "type": "bar",
         "x": [
          "2000",
          "2001",
          "2002",
          "2003",
          "2004",
          "2005",
          "2006",
          "2007",
          "2008",
          "2009",
          "2010",
          "2011",
          "2012",
          "2013",
          "2014",
          "2015",
          "2016",
          "2017",
          "2018",
          "2019",
          "2020",
          "2021",
          "2022",
          "2023",
          "2024"
         ],
         "xaxis": "x",
         "y": {
          "bdata": "AAAAAIDGwkAAAAAAgM7DQAAAAACAscRAAAAAAABexUAAAAAAAOzEQAAAAAAAkMVAAAAAAICGxkAAAAAAgGnHQAAAAAAAxMdAAAAAAICKx0AAAAAAgI3JQAAAAAAABMlAAAAAAIBLykAAAAAAgLPLQAAAAACAb8tAAAAAAICEzEAAAAAAAPvNQAAAAACAIM5AAAAAAIDozkAAAAAAwHLQQAAAAAAAs9FAAAAAAABK0UAAAAAAAAPSQAAAAAAAidNAAAAAAADN00A=",
          "dtype": "f8"
         },
         "yaxis": "y"
        },
        {
         "hovertemplate": "Famille de produits=Sucre, confiserie et desserts <br>Année=%{x}<br>Dépenses (en millions d'euros)=%{y}<extra></extra>",
         "legendgroup": "Sucre, confiserie et desserts ",
         "marker": {
          "color": "#B6E880",
          "pattern": {
           "shape": ""
          }
         },
         "name": "Sucre, confiserie et desserts ",
         "orientation": "v",
         "showlegend": true,
         "textposition": "none",
         "texttemplate": "",
         "type": "bar",
         "x": [
          "2000",
          "2001",
          "2002",
          "2003",
          "2004",
          "2005",
          "2006",
          "2007",
          "2008",
          "2009",
          "2010",
          "2011",
          "2012",
          "2013",
          "2014",
          "2015",
          "2016",
          "2017",
          "2018",
          "2019",
          "2020",
          "2021",
          "2022",
          "2023",
          "2024"
         ],
         "xaxis": "x",
         "y": {
          "bdata": "AAAAAACJu0AAAAAAAPO8QAAAAAAAGL5AAAAAAAAswEAAAAAAgJrAQAAAAACAxcBAAAAAAADhwEAAAAAAgBPBQAAAAAAATMJAAAAAAIB/wkAAAAAAAL7CQAAAAAAAoMNAAAAAAABbxEAAAAAAgLbEQAAAAAAAr8RAAAAAAAAfxUAAAAAAAGPFQAAAAAAA4sVAAAAAAIA3xkAAAAAAADvGQAAAAACAQ8dAAAAAAABNx0AAAAAAADnIQAAAAAAA68pAAAAAAICLy0A=",
          "dtype": "f8"
         },
         "yaxis": "y"
        },
        {
         "hovertemplate": "Famille de produits=Plats préparés et autres produits alimentaires <br>Année=%{x}<br>Dépenses (en millions d'euros)=%{y}<extra></extra>",
         "legendgroup": "Plats préparés et autres produits alimentaires ",
         "marker": {
          "color": "#FF97FF",
          "pattern": {
           "shape": ""
          }
         },
         "name": "Plats préparés et autres produits alimentaires ",
         "orientation": "v",
         "showlegend": true,
         "textposition": "none",
         "texttemplate": "",
         "type": "bar",
         "x": [
          "2000",
          "2001",
          "2002",
          "2003",
          "2004",
          "2005",
          "2006",
          "2007",
          "2008",
          "2009",
          "2010",
          "2011",
          "2012",
          "2013",
          "2014",
          "2015",
          "2016",
          "2017",
          "2018",
          "2019",
          "2020",
          "2021",
          "2022",
          "2023",
          "2024"
         ],
         "xaxis": "x",
         "y": {
          "bdata": "AAAAAADTvkAAAAAAgDnAQAAAAACACMFAAAAAAAAawkAAAAAAgFLDQAAAAACADMRAAAAAAIDOxEAAAAAAgOfFQAAAAAAAhMdAAAAAAIBxx0AAAAAAgAfIQAAAAAAAu8hAAAAAAIAFykAAAAAAADzKQAAAAACAQcpAAAAAAAAny0AAAAAAgDLMQAAAAACAgc1AAAAAAIDXzUAAAAAAAJvOQAAAAADAPNBAAAAAAIAA0UAAAAAAgB3SQAAAAACAmNNAAAAAAEAM1EA=",
          "dtype": "f8"
         },
         "yaxis": "y"
        },
        {
         "hovertemplate": "Famille de produits=Jus de fruits et de légumes <br>Année=%{x}<br>Dépenses (en millions d'euros)=%{y}<extra></extra>",
         "legendgroup": "Jus de fruits et de légumes ",
         "marker": {
          "color": "#FECB52",
          "pattern": {
           "shape": ""
          }
         },
         "name": "Jus de fruits et de légumes ",
         "orientation": "v",
         "showlegend": true,
         "textposition": "none",
         "texttemplate": "",
         "type": "bar",
         "x": [
          "2000",
          "2001",
          "2002",
          "2003",
          "2004",
          "2005",
          "2006",
          "2007",
          "2008",
          "2009",
          "2010",
          "2011",
          "2012",
          "2013",
          "2014",
          "2015",
          "2016",
          "2017",
          "2018",
          "2019",
          "2020",
          "2021",
          "2022",
          "2023",
          "2024"
         ],
         "xaxis": "x",
         "y": {
          "bdata": "AAAAAACslkAAAAAAAOCXQAAAAAAAzJhAAAAAAACMm0AAAAAAADCcQAAAAAAAaJ5AAAAAAABwn0AAAAAAAOSgQAAAAAAAaKJAAAAAAABwo0AAAAAAANyjQAAAAAAAWKVAAAAAAABapkAAAAAAAFCmQAAAAAAAkKVAAAAAAABwpUAAAAAAAFClQAAAAAAA+KVAAAAAAAD2pUAAAAAAALKlQAAAAAAAjKVAAAAAAADypEAAAAAAANalQAAAAAAApqZAAAAAAAACpkA=",
          "dtype": "f8"
         },
         "yaxis": "y"
        },
        {
         "hovertemplate": "Famille de produits=Café et succédanés de café <br>Année=%{x}<br>Dépenses (en millions d'euros)=%{y}<extra></extra>",
         "legendgroup": "Café et succédanés de café ",
         "marker": {
          "color": "#636efa",
          "pattern": {
           "shape": ""
          }
         },
         "name": "Café et succédanés de café ",
         "orientation": "v",
         "showlegend": true,
         "textposition": "none",
         "texttemplate": "",
         "type": "bar",
         "x": [
          "2000",
          "2001",
          "2002",
          "2003",
          "2004",
          "2005",
          "2006",
          "2007",
          "2008",
          "2009",
          "2010",
          "2011",
          "2012",
          "2013",
          "2014",
          "2015",
          "2016",
          "2017",
          "2018",
          "2019",
          "2020",
          "2021",
          "2022",
          "2023",
          "2024"
         ],
         "xaxis": "x",
         "y": {
          "bdata": "AAAAAADGoEAAAAAAANagQAAAAAAAEqFAAAAAAABMoUAAAAAAACyhQAAAAAAAiKFAAAAAAADuokAAAAAAANajQAAAAAAAbKRAAAAAAAD2pEAAAAAAAAKmQAAAAAAASqhAAAAAAADqqUAAAAAAAIapQAAAAAAAZqlAAAAAAABqqkAAAAAAADirQAAAAAAAiqxAAAAAAABCrUAAAAAAAKStQAAAAAAA3q9AAAAAAAAosEAAAAAAAPuwQAAAAAAAe7JAAAAAAAD+skA=",
          "dtype": "f8"
         },
         "yaxis": "y"
        },
        {
         "hovertemplate": "Famille de produits=Thé, maté et autres produits d’origine végétale pour tisanes <br>Année=%{x}<br>Dépenses (en millions d'euros)=%{y}<extra></extra>",
         "legendgroup": "Thé, maté et autres produits d’origine végétale pour tisanes ",
         "marker": {
          "color": "#EF553B",
          "pattern": {
           "shape": ""
          }
         },
         "name": "Thé, maté et autres produits d’origine végétale pour tisanes ",
         "orientation": "v",
         "showlegend": true,
         "textposition": "none",
         "texttemplate": "",
         "type": "bar",
         "x": [
          "2000",
          "2001",
          "2002",
          "2003",
          "2004",
          "2005",
          "2006",
          "2007",
          "2008",
          "2009",
          "2010",
          "2011",
          "2012",
          "2013",
          "2014",
          "2015",
          "2016",
          "2017",
          "2018",
          "2019",
          "2020",
          "2021",
          "2022",
          "2023",
          "2024"
         ],
         "xaxis": "x",
         "y": {
          "bdata": "AAAAAAAQdEAAAAAAACB0QAAAAAAAcHRAAAAAAACwdEAAAAAAAJB0QAAAAAAA8HRAAAAAAACgdkAAAAAAALB3QAAAAAAAcHhAAAAAAAAQeUAAAAAAAFB6QAAAAAAAEH1AAAAAAAAAf0AAAAAAAIB+QAAAAAAAYH5AAAAAAACQf0AAAAAAAEiAQAAAAAAAEIFAAAAAAACAgUAAAAAAALiBQAAAAAAAEINAAAAAAABQg0AAAAAAAFCEQAAAAAAAGIZAAAAAAAC4hkA=",
          "dtype": "f8"
         },
         "yaxis": "y"
        },
        {
         "hovertemplate": "Famille de produits=Eau <br>Année=%{x}<br>Dépenses (en millions d'euros)=%{y}<extra></extra>",
         "legendgroup": "Eau ",
         "marker": {
          "color": "#00cc96",
          "pattern": {
           "shape": ""
          }
         },
         "name": "Eau ",
         "orientation": "v",
         "showlegend": true,
         "textposition": "none",
         "texttemplate": "",
         "type": "bar",
         "x": [
          "2000",
          "2001",
          "2002",
          "2003",
          "2004",
          "2005",
          "2006",
          "2007",
          "2008",
          "2009",
          "2010",
          "2011",
          "2012",
          "2013",
          "2014",
          "2015",
          "2016",
          "2017",
          "2018",
          "2019",
          "2020",
          "2021",
          "2022",
          "2023",
          "2024"
         ],
         "xaxis": "x",
         "y": {
          "bdata": "AAAAAADsl0AAAAAAADyZQAAAAAAAUJpAAAAAAAAYnkAAAAAAAMieQAAAAAAAdJ9AAAAAAADsn0AAAAAAAEKgQAAAAAAARJ9AAAAAAACEn0AAAAAAAAKgQAAAAAAA2qBAAAAAAAAQoUAAAAAAAOigQAAAAAAA3qBAAAAAAAC+oUAAAAAAAOihQAAAAAAA4qJAAAAAAACOo0AAAAAAAIijQAAAAAAAjqNAAAAAAAAEo0AAAAAAAGSkQAAAAAAAIKVAAAAAAADIpEA=",
          "dtype": "f8"
         },
         "yaxis": "y"
        },
        {
         "hovertemplate": "Famille de produits=Sodas<br>Année=%{x}<br>Dépenses (en millions d'euros)=%{y}<extra></extra>",
         "legendgroup": "Sodas",
         "marker": {
          "color": "#ab63fa",
          "pattern": {
           "shape": ""
          }
         },
         "name": "Sodas",
         "orientation": "v",
         "showlegend": true,
         "textposition": "none",
         "texttemplate": "",
         "type": "bar",
         "x": [
          "2000",
          "2001",
          "2002",
          "2003",
          "2004",
          "2005",
          "2006",
          "2007",
          "2008",
          "2009",
          "2010",
          "2011",
          "2012",
          "2013",
          "2014",
          "2015",
          "2016",
          "2017",
          "2018",
          "2019",
          "2020",
          "2021",
          "2022",
          "2023",
          "2024"
         ],
         "xaxis": "x",
         "y": {
          "bdata": "AAAAAADgj0AAAAAAAFiRQAAAAAAALJJAAAAAAABolEAAAAAAAJyUQAAAAAAAwJRAAAAAAAC0lUAAAAAAAFiXQAAAAAAAeJhAAAAAAACMmkAAAAAAAFScQAAAAAAAWJ5AAAAAAAA4oEAAAAAAALygQAAAAAAA0KBAAAAAAABUoUAAAAAAADqhQAAAAAAAeqFAAAAAAADwoUAAAAAAAECiQAAAAAAAqKJAAAAAAABuo0AAAAAAAPilQAAAAAAA8qdAAAAAAADMp0A=",
          "dtype": "f8"
         },
         "yaxis": "y"
        },
        {
         "hovertemplate": "Famille de produits=Autres boissons non alcoolisées <br>Année=%{x}<br>Dépenses (en millions d'euros)=%{y}<extra></extra>",
         "legendgroup": "Autres boissons non alcoolisées ",
         "marker": {
          "color": "#FFA15A",
          "pattern": {
           "shape": ""
          }
         },
         "name": "Autres boissons non alcoolisées ",
         "orientation": "v",
         "showlegend": true,
         "textposition": "none",
         "texttemplate": "",
         "type": "bar",
         "x": [
          "2000",
          "2001",
          "2002",
          "2003",
          "2004",
          "2005",
          "2006",
          "2007",
          "2008",
          "2009",
          "2010",
          "2011",
          "2012",
          "2013",
          "2014",
          "2015",
          "2016",
          "2017",
          "2018",
          "2019",
          "2020",
          "2021",
          "2022",
          "2023",
          "2024"
         ],
         "xaxis": "x",
         "y": {
          "bdata": "AAAAAAAYg0AAAAAAALCEQAAAAAAAqIVAAAAAAABQiEAAAAAAAJCIQAAAAAAA8IhAAAAAAAAIikAAAAAAAACMQAAAAAAAeI1AAAAAAADgj0AAAAAAAPCQQAAAAAAAJJJAAAAAAABck0AAAAAAAOiTQAAAAAAA7JNAAAAAAAB4lEAAAAAAAFiUQAAAAAAArJRAAAAAAAAslUAAAAAAAHiVQAAAAAAA6JVAAAAAAACslkAAAAAAAHiZQAAAAAAArJtAAAAAAAB0m0A=",
          "dtype": "f8"
         },
         "yaxis": "y"
        },
        {
         "hovertemplate": "Famille de produits=Spiritueux et liqueurs <br>Année=%{x}<br>Dépenses (en millions d'euros)=%{y}<extra></extra>",
         "legendgroup": "Spiritueux et liqueurs ",
         "marker": {
          "color": "#19d3f3",
          "pattern": {
           "shape": ""
          }
         },
         "name": "Spiritueux et liqueurs ",
         "orientation": "v",
         "showlegend": true,
         "textposition": "none",
         "texttemplate": "",
         "type": "bar",
         "x": [
          "2000",
          "2001",
          "2002",
          "2003",
          "2004",
          "2005",
          "2006",
          "2007",
          "2008",
          "2009",
          "2010",
          "2011",
          "2012",
          "2013",
          "2014",
          "2015",
          "2016",
          "2017",
          "2018",
          "2019",
          "2020",
          "2021",
          "2022",
          "2023",
          "2024"
         ],
         "xaxis": "x",
         "y": {
          "bdata": "AAAAAADCsEAAAAAAAD2xQAAAAAAA2bFAAAAAAAC+sUAAAAAAAOKxQAAAAAAA3LFAAAAAAABCskAAAAAAAFOyQAAAAAAAX7JAAAAAAADWskAAAAAAAJizQAAAAAAAxLNAAAAAAAABtUAAAAAAAA61QAAAAAAAGrVAAAAAAABBtUAAAAAAAJS1QAAAAAAAQLVAAAAAAAD5tEAAAAAAAFe1QAAAAAAAq7ZAAAAAAAAjt0AAAAAAACu2QAAAAAAAK7ZAAAAAAABTtUA=",
          "dtype": "f8"
         },
         "yaxis": "y"
        },
        {
         "hovertemplate": "Famille de produits=Vin<br>Année=%{x}<br>Dépenses (en millions d'euros)=%{y}<extra></extra>",
         "legendgroup": "Vin",
         "marker": {
          "color": "#FF6692",
          "pattern": {
           "shape": ""
          }
         },
         "name": "Vin",
         "orientation": "v",
         "showlegend": true,
         "textposition": "none",
         "texttemplate": "",
         "type": "bar",
         "x": [
          "2000",
          "2001",
          "2002",
          "2003",
          "2004",
          "2005",
          "2006",
          "2007",
          "2008",
          "2009",
          "2010",
          "2011",
          "2012",
          "2013",
          "2014",
          "2015",
          "2016",
          "2017",
          "2018",
          "2019",
          "2020",
          "2021",
          "2022",
          "2023",
          "2024"
         ],
         "xaxis": "x",
         "y": {
          "bdata": "AAAAAIDUwEAAAAAAAFfBQAAAAACA4sFAAAAAAAC0wUAAAAAAAEDCQAAAAAAA98FAAAAAAIAXwkAAAAAAgMfCQAAAAACAR8NAAAAAAIDew0AAAAAAAGbEQAAAAACA/cRAAAAAAABRxUAAAAAAAAHGQAAAAAAAA8ZAAAAAAAAdxkAAAAAAgAzGQAAAAAAAGMZAAAAAAIAWxkAAAAAAAOfEQAAAAACAm8RAAAAAAIC1xEAAAAAAAFDEQAAAAAAAa8RAAAAAAID5w0A=",
          "dtype": "f8"
         },
         "yaxis": "y"
        },
        {
         "hovertemplate": "Famille de produits=Bière <br>Année=%{x}<br>Dépenses (en millions d'euros)=%{y}<extra></extra>",
         "legendgroup": "Bière ",
         "marker": {
          "color": "#B6E880",
          "pattern": {
           "shape": ""
          }
         },
         "name": "Bière ",
         "orientation": "v",
         "showlegend": true,
         "textposition": "none",
         "texttemplate": "",
         "type": "bar",
         "x": [
          "2000",
          "2001",
          "2002",
          "2003",
          "2004",
          "2005",
          "2006",
          "2007",
          "2008",
          "2009",
          "2010",
          "2011",
          "2012",
          "2013",
          "2014",
          "2015",
          "2016",
          "2017",
          "2018",
          "2019",
          "2020",
          "2021",
          "2022",
          "2023",
          "2024"
         ],
         "xaxis": "x",
         "y": {
          "bdata": "AAAAAAD6oUAAAAAAAESiQAAAAAAA4KJAAAAAAAAMpEAAAAAAAICjQAAAAAAAXKNAAAAAAACEo0AAAAAAAEyjQAAAAAAA9KFAAAAAAACkokAAAAAAAFKjQAAAAAAAqKJAAAAAAABSo0AAAAAAAGCmQAAAAAAAxKdAAAAAAABmqUAAAAAAAPyqQAAAAAAASq1AAAAAAAC6r0AAAAAAAJ2wQAAAAAAAZLJAAAAAAABJs0AAAAAAAL+zQAAAAAAA9rRAAAAAAADqtEA=",
          "dtype": "f8"
         },
         "yaxis": "y"
        },
        {
         "hovertemplate": "Famille de produits=Autres boissons alcoolisées <br>Année=%{x}<br>Dépenses (en millions d'euros)=%{y}<extra></extra>",
         "legendgroup": "Autres boissons alcoolisées ",
         "marker": {
          "color": "#FF97FF",
          "pattern": {
           "shape": ""
          }
         },
         "name": "Autres boissons alcoolisées ",
         "orientation": "v",
         "showlegend": true,
         "textposition": "none",
         "texttemplate": "",
         "type": "bar",
         "x": [
          "2000",
          "2001",
          "2002",
          "2003",
          "2004",
          "2005",
          "2006",
          "2007",
          "2008",
          "2009",
          "2010",
          "2011",
          "2012",
          "2013",
          "2014",
          "2015",
          "2016",
          "2017",
          "2018",
          "2019",
          "2020",
          "2021",
          "2022",
          "2023",
          "2024"
         ],
         "xaxis": "x",
         "y": {
          "bdata": "AAAAAACgYkAAAAAAAABjQAAAAAAAoGNAAAAAAACAZEAAAAAAAEBkQAAAAAAAIGRAAAAAAACAZEAAAAAAAGBkQAAAAAAAgGNAAAAAAABAZEAAAAAAACBlQAAAAAAAwGRAAAAAAACAZUAAAAAAAOBnQAAAAAAAAGlAAAAAAABgakAAAAAAAOBrQAAAAAAAoG1AAAAAAABgb0AAAAAAAGBwQAAAAAAAAHJAAAAAAADQckAAAAAAAABzQAAAAAAA8HNAAAAAAADAc0A=",
          "dtype": "f8"
         },
         "yaxis": "y"
        }
       ],
       "layout": {
        "bargap": 0.2,
        "barmode": "relative",
        "font": {
         "size": 11
        },
        "height": 800,
        "legend": {
         "font": {
          "size": 10
         },
         "itemsizing": "constant",
         "itemwidth": 30,
         "orientation": "v",
         "title": {
          "text": "<b>Famille de produits</b>"
         },
         "tracegroupgap": 0,
         "traceorder": "normal",
         "x": 0.5,
         "xanchor": "center",
         "y": -0.15,
         "yanchor": "top"
        },
        "margin": {
         "b": 250,
         "l": 50,
         "r": 50,
         "t": 150
        },
        "template": {
         "data": {
          "bar": [
           {
            "error_x": {
             "color": "#2a3f5f"
            },
            "error_y": {
             "color": "#2a3f5f"
            },
            "marker": {
             "line": {
              "color": "#E5ECF6",
              "width": 0.5
             },
             "pattern": {
              "fillmode": "overlay",
              "size": 10,
              "solidity": 0.2
             }
            },
            "type": "bar"
           }
          ],
          "barpolar": [
           {
            "marker": {
             "line": {
              "color": "#E5ECF6",
              "width": 0.5
             },
             "pattern": {
              "fillmode": "overlay",
              "size": 10,
              "solidity": 0.2
             }
            },
            "type": "barpolar"
           }
          ],
          "carpet": [
           {
            "aaxis": {
             "endlinecolor": "#2a3f5f",
             "gridcolor": "white",
             "linecolor": "white",
             "minorgridcolor": "white",
             "startlinecolor": "#2a3f5f"
            },
            "baxis": {
             "endlinecolor": "#2a3f5f",
             "gridcolor": "white",
             "linecolor": "white",
             "minorgridcolor": "white",
             "startlinecolor": "#2a3f5f"
            },
            "type": "carpet"
           }
          ],
          "choropleth": [
           {
            "colorbar": {
             "outlinewidth": 0,
             "ticks": ""
            },
            "type": "choropleth"
           }
          ],
          "contour": [
           {
            "colorbar": {
             "outlinewidth": 0,
             "ticks": ""
            },
            "colorscale": [
             [
              0,
              "#0d0887"
             ],
             [
              0.1111111111111111,
              "#46039f"
             ],
             [
              0.2222222222222222,
              "#7201a8"
             ],
             [
              0.3333333333333333,
              "#9c179e"
             ],
             [
              0.4444444444444444,
              "#bd3786"
             ],
             [
              0.5555555555555556,
              "#d8576b"
             ],
             [
              0.6666666666666666,
              "#ed7953"
             ],
             [
              0.7777777777777778,
              "#fb9f3a"
             ],
             [
              0.8888888888888888,
              "#fdca26"
             ],
             [
              1,
              "#f0f921"
             ]
            ],
            "type": "contour"
           }
          ],
          "contourcarpet": [
           {
            "colorbar": {
             "outlinewidth": 0,
             "ticks": ""
            },
            "type": "contourcarpet"
           }
          ],
          "heatmap": [
           {
            "colorbar": {
             "outlinewidth": 0,
             "ticks": ""
            },
            "colorscale": [
             [
              0,
              "#0d0887"
             ],
             [
              0.1111111111111111,
              "#46039f"
             ],
             [
              0.2222222222222222,
              "#7201a8"
             ],
             [
              0.3333333333333333,
              "#9c179e"
             ],
             [
              0.4444444444444444,
              "#bd3786"
             ],
             [
              0.5555555555555556,
              "#d8576b"
             ],
             [
              0.6666666666666666,
              "#ed7953"
             ],
             [
              0.7777777777777778,
              "#fb9f3a"
             ],
             [
              0.8888888888888888,
              "#fdca26"
             ],
             [
              1,
              "#f0f921"
             ]
            ],
            "type": "heatmap"
           }
          ],
          "histogram": [
           {
            "marker": {
             "pattern": {
              "fillmode": "overlay",
              "size": 10,
              "solidity": 0.2
             }
            },
            "type": "histogram"
           }
          ],
          "histogram2d": [
           {
            "colorbar": {
             "outlinewidth": 0,
             "ticks": ""
            },
            "colorscale": [
             [
              0,
              "#0d0887"
             ],
             [
              0.1111111111111111,
              "#46039f"
             ],
             [
              0.2222222222222222,
              "#7201a8"
             ],
             [
              0.3333333333333333,
              "#9c179e"
             ],
             [
              0.4444444444444444,
              "#bd3786"
             ],
             [
              0.5555555555555556,
              "#d8576b"
             ],
             [
              0.6666666666666666,
              "#ed7953"
             ],
             [
              0.7777777777777778,
              "#fb9f3a"
             ],
             [
              0.8888888888888888,
              "#fdca26"
             ],
             [
              1,
              "#f0f921"
             ]
            ],
            "type": "histogram2d"
           }
          ],
          "histogram2dcontour": [
           {
            "colorbar": {
             "outlinewidth": 0,
             "ticks": ""
            },
            "colorscale": [
             [
              0,
              "#0d0887"
             ],
             [
              0.1111111111111111,
              "#46039f"
             ],
             [
              0.2222222222222222,
              "#7201a8"
             ],
             [
              0.3333333333333333,
              "#9c179e"
             ],
             [
              0.4444444444444444,
              "#bd3786"
             ],
             [
              0.5555555555555556,
              "#d8576b"
             ],
             [
              0.6666666666666666,
              "#ed7953"
             ],
             [
              0.7777777777777778,
              "#fb9f3a"
             ],
             [
              0.8888888888888888,
              "#fdca26"
             ],
             [
              1,
              "#f0f921"
             ]
            ],
            "type": "histogram2dcontour"
           }
          ],
          "mesh3d": [
           {
            "colorbar": {
             "outlinewidth": 0,
             "ticks": ""
            },
            "type": "mesh3d"
           }
          ],
          "parcoords": [
           {
            "line": {
             "colorbar": {
              "outlinewidth": 0,
              "ticks": ""
             }
            },
            "type": "parcoords"
           }
          ],
          "pie": [
           {
            "automargin": true,
            "type": "pie"
           }
          ],
          "scatter": [
           {
            "fillpattern": {
             "fillmode": "overlay",
             "size": 10,
             "solidity": 0.2
            },
            "type": "scatter"
           }
          ],
          "scatter3d": [
           {
            "line": {
             "colorbar": {
              "outlinewidth": 0,
              "ticks": ""
             }
            },
            "marker": {
             "colorbar": {
              "outlinewidth": 0,
              "ticks": ""
             }
            },
            "type": "scatter3d"
           }
          ],
          "scattercarpet": [
           {
            "marker": {
             "colorbar": {
              "outlinewidth": 0,
              "ticks": ""
             }
            },
            "type": "scattercarpet"
           }
          ],
          "scattergeo": [
           {
            "marker": {
             "colorbar": {
              "outlinewidth": 0,
              "ticks": ""
             }
            },
            "type": "scattergeo"
           }
          ],
          "scattergl": [
           {
            "marker": {
             "colorbar": {
              "outlinewidth": 0,
              "ticks": ""
             }
            },
            "type": "scattergl"
           }
          ],
          "scattermap": [
           {
            "marker": {
             "colorbar": {
              "outlinewidth": 0,
              "ticks": ""
             }
            },
            "type": "scattermap"
           }
          ],
          "scattermapbox": [
           {
            "marker": {
             "colorbar": {
              "outlinewidth": 0,
              "ticks": ""
             }
            },
            "type": "scattermapbox"
           }
          ],
          "scatterpolar": [
           {
            "marker": {
             "colorbar": {
              "outlinewidth": 0,
              "ticks": ""
             }
            },
            "type": "scatterpolar"
           }
          ],
          "scatterpolargl": [
           {
            "marker": {
             "colorbar": {
              "outlinewidth": 0,
              "ticks": ""
             }
            },
            "type": "scatterpolargl"
           }
          ],
          "scatterternary": [
           {
            "marker": {
             "colorbar": {
              "outlinewidth": 0,
              "ticks": ""
             }
            },
            "type": "scatterternary"
           }
          ],
          "surface": [
           {
            "colorbar": {
             "outlinewidth": 0,
             "ticks": ""
            },
            "colorscale": [
             [
              0,
              "#0d0887"
             ],
             [
              0.1111111111111111,
              "#46039f"
             ],
             [
              0.2222222222222222,
              "#7201a8"
             ],
             [
              0.3333333333333333,
              "#9c179e"
             ],
             [
              0.4444444444444444,
              "#bd3786"
             ],
             [
              0.5555555555555556,
              "#d8576b"
             ],
             [
              0.6666666666666666,
              "#ed7953"
             ],
             [
              0.7777777777777778,
              "#fb9f3a"
             ],
             [
              0.8888888888888888,
              "#fdca26"
             ],
             [
              1,
              "#f0f921"
             ]
            ],
            "type": "surface"
           }
          ],
          "table": [
           {
            "cells": {
             "fill": {
              "color": "#EBF0F8"
             },
             "line": {
              "color": "white"
             }
            },
            "header": {
             "fill": {
              "color": "#C8D4E3"
             },
             "line": {
              "color": "white"
             }
            },
            "type": "table"
           }
          ]
         },
         "layout": {
          "annotationdefaults": {
           "arrowcolor": "#2a3f5f",
           "arrowhead": 0,
           "arrowwidth": 1
          },
          "autotypenumbers": "strict",
          "coloraxis": {
           "colorbar": {
            "outlinewidth": 0,
            "ticks": ""
           }
          },
          "colorscale": {
           "diverging": [
            [
             0,
             "#8e0152"
            ],
            [
             0.1,
             "#c51b7d"
            ],
            [
             0.2,
             "#de77ae"
            ],
            [
             0.3,
             "#f1b6da"
            ],
            [
             0.4,
             "#fde0ef"
            ],
            [
             0.5,
             "#f7f7f7"
            ],
            [
             0.6,
             "#e6f5d0"
            ],
            [
             0.7,
             "#b8e186"
            ],
            [
             0.8,
             "#7fbc41"
            ],
            [
             0.9,
             "#4d9221"
            ],
            [
             1,
             "#276419"
            ]
           ],
           "sequential": [
            [
             0,
             "#0d0887"
            ],
            [
             0.1111111111111111,
             "#46039f"
            ],
            [
             0.2222222222222222,
             "#7201a8"
            ],
            [
             0.3333333333333333,
             "#9c179e"
            ],
            [
             0.4444444444444444,
             "#bd3786"
            ],
            [
             0.5555555555555556,
             "#d8576b"
            ],
            [
             0.6666666666666666,
             "#ed7953"
            ],
            [
             0.7777777777777778,
             "#fb9f3a"
            ],
            [
             0.8888888888888888,
             "#fdca26"
            ],
            [
             1,
             "#f0f921"
            ]
           ],
           "sequentialminus": [
            [
             0,
             "#0d0887"
            ],
            [
             0.1111111111111111,
             "#46039f"
            ],
            [
             0.2222222222222222,
             "#7201a8"
            ],
            [
             0.3333333333333333,
             "#9c179e"
            ],
            [
             0.4444444444444444,
             "#bd3786"
            ],
            [
             0.5555555555555556,
             "#d8576b"
            ],
            [
             0.6666666666666666,
             "#ed7953"
            ],
            [
             0.7777777777777778,
             "#fb9f3a"
            ],
            [
             0.8888888888888888,
             "#fdca26"
            ],
            [
             1,
             "#f0f921"
            ]
           ]
          },
          "colorway": [
           "#636efa",
           "#EF553B",
           "#00cc96",
           "#ab63fa",
           "#FFA15A",
           "#19d3f3",
           "#FF6692",
           "#B6E880",
           "#FF97FF",
           "#FECB52"
          ],
          "font": {
           "color": "#2a3f5f"
          },
          "geo": {
           "bgcolor": "white",
           "lakecolor": "white",
           "landcolor": "#E5ECF6",
           "showlakes": true,
           "showland": true,
           "subunitcolor": "white"
          },
          "hoverlabel": {
           "align": "left"
          },
          "hovermode": "closest",
          "mapbox": {
           "style": "light"
          },
          "paper_bgcolor": "white",
          "plot_bgcolor": "#E5ECF6",
          "polar": {
           "angularaxis": {
            "gridcolor": "white",
            "linecolor": "white",
            "ticks": ""
           },
           "bgcolor": "#E5ECF6",
           "radialaxis": {
            "gridcolor": "white",
            "linecolor": "white",
            "ticks": ""
           }
          },
          "scene": {
           "xaxis": {
            "backgroundcolor": "#E5ECF6",
            "gridcolor": "white",
            "gridwidth": 2,
            "linecolor": "white",
            "showbackground": true,
            "ticks": "",
            "zerolinecolor": "white"
           },
           "yaxis": {
            "backgroundcolor": "#E5ECF6",
            "gridcolor": "white",
            "gridwidth": 2,
            "linecolor": "white",
            "showbackground": true,
            "ticks": "",
            "zerolinecolor": "white"
           },
           "zaxis": {
            "backgroundcolor": "#E5ECF6",
            "gridcolor": "white",
            "gridwidth": 2,
            "linecolor": "white",
            "showbackground": true,
            "ticks": "",
            "zerolinecolor": "white"
           }
          },
          "shapedefaults": {
           "line": {
            "color": "#2a3f5f"
           }
          },
          "ternary": {
           "aaxis": {
            "gridcolor": "white",
            "linecolor": "white",
            "ticks": ""
           },
           "baxis": {
            "gridcolor": "white",
            "linecolor": "white",
            "ticks": ""
           },
           "bgcolor": "#E5ECF6",
           "caxis": {
            "gridcolor": "white",
            "linecolor": "white",
            "ticks": ""
           }
          },
          "title": {
           "x": 0.05
          },
          "xaxis": {
           "automargin": true,
           "gridcolor": "white",
           "linecolor": "white",
           "ticks": "",
           "title": {
            "standoff": 15
           },
           "zerolinecolor": "white",
           "zerolinewidth": 2
          },
          "yaxis": {
           "automargin": true,
           "gridcolor": "white",
           "linecolor": "white",
           "ticks": "",
           "title": {
            "standoff": 15
           },
           "zerolinecolor": "white",
           "zerolinewidth": 2
          }
         }
        },
        "title": {
         "font": {
          "size": 24
         },
         "text": "<b>Répartition des dépenses par famille de produits (2000-2024)</b>",
         "x": 0.5,
         "xanchor": "center",
         "y": 0.95,
         "yanchor": "top"
        },
        "width": 900,
        "xaxis": {
         "anchor": "y",
         "domain": [
          0,
          1
         ],
         "tickangle": -45,
         "tickfont": {
          "size": 12
         },
         "title": {
          "font": {
           "size": 14
          },
          "text": "Année"
         }
        },
        "yaxis": {
         "anchor": "x",
         "domain": [
          0,
          1
         ],
         "gridcolor": "LightGrey",
         "gridwidth": 1,
         "showgrid": true,
         "tickfont": {
          "size": 12
         },
         "title": {
          "font": {
           "size": 14
          },
          "text": "Dépenses (en millions d'euros)"
         }
        }
       }
      }
     },
     "metadata": {},
     "output_type": "display_data"
    }
   ],
   "source": [
    "# 1. Préparation des données\n",
    "# Fonction pour nettoyer les nombres\n",
    "def clean_number(x):\n",
    "    if isinstance(x, str):\n",
    "        # Remplacer les espaces insécables et les espaces normaux, puis la virgule par un point\n",
    "        return float(x.replace('\\u202f', '').replace(' ', '').replace(',', '.'))\n",
    "    return float(x)\n",
    "\n",
    "# Nettoyage des colonnes numériques\n",
    "for col in conso_men.columns[1:]:  # Toutes les colonnes sauf la première\n",
    "    conso_men[col] = conso_men[col].apply(clean_number)\n",
    "\n",
    "# 2. Création d'un graphique à barres empilées\n",
    "import plotly.express as px\n",
    "\n",
    "# Transformer les données pour le format long\n",
    "df_melted = conso_men.melt(\n",
    "    id_vars=['Famille de produits'], \n",
    "    var_name='Année', \n",
    "    value_name='Dépenses'\n",
    ")\n",
    "\n",
    "# Création du graphique à barres empilées\n",
    "fig = px.bar(\n",
    "    df_melted, \n",
    "    x='Année', \n",
    "    y='Dépenses', \n",
    "    color='Famille de produits',\n",
    "    title='<b>Répartition des dépenses par famille de produits (2000-2024)</b>',\n",
    "    labels={'Dépenses': 'Dépenses (en millions d\\'euros)'},\n",
    "    height=800,  # Hauteur augmentée pour accommoder la légende en bas\n",
    "    width=900   # Largeur augmentée\n",
    ")\n",
    "\n",
    "# Améliorer la lisibilité\n",
    "fig.update_layout(\n",
    "    xaxis_tickangle=-45,\n",
    "    legend_title_text='<b>Famille de produits</b>',\n",
    "    legend=dict(\n",
    "        orientation=\"v\",  # Légende verticale\n",
    "        yanchor=\"top\",    # Ancrage en haut\n",
    "        y=-0.15,          # Position sous le graphique (valeur négative pour descendre)\n",
    "        xanchor=\"center\", # Centrage horizontal\n",
    "        x=0.5,            # Position horizontale centrée\n",
    "        font=dict(size=10),  # Taille de police de la légende\n",
    "        itemsizing='constant',  # Taille constante des symboles\n",
    "        itemwidth=30,      # Largeur des items de légende\n",
    "        traceorder='normal'  # Ordre normal des éléments\n",
    "    ),\n",
    "    title=dict(\n",
    "        y=0.95,          # Position verticale du titre (0-1)\n",
    "        x=0.5,           # Position horizontale centrée\n",
    "        xanchor='center', # Ancrage du titre\n",
    "        yanchor='top'    # Ancrage en haut\n",
    "    ),\n",
    "    title_font_size=24,  # Taille du titre augmentée\n",
    "    font=dict(size=11),  # Taille de police générale\n",
    "    margin=dict(l=50, r=50, t=150, b=250),  # Marge inférieure augmentée pour la légende\n",
    "    xaxis=dict(\n",
    "        title_font=dict(size=14),  # Taille du titre de l'axe X\n",
    "        tickfont=dict(size=12)     # Taille des étiquettes de l'axe X\n",
    "    ),\n",
    "    yaxis=dict(\n",
    "        title_font=dict(size=14),  # Taille du titre de l'axe Y\n",
    "        tickfont=dict(size=12)     # Taille des étiquettes de l'axe Y\n",
    "    )\n",
    ")\n",
    "\n",
    "# Désactiver l'affichage des valeurs sur les barres\n",
    "fig.update_traces(\n",
    "    texttemplate='',  # Pas de texte sur les barres\n",
    "    textposition='none'\n",
    ")\n",
    "\n",
    "# Ajuster l'espacement entre les barres\n",
    "fig.update_layout(bargap=0.2)\n",
    "\n",
    "# Afficher la grille pour une meilleure lisibilité\n",
    "fig.update_yaxes(showgrid=True, gridwidth=1, gridcolor='LightGrey')\n",
    "\n",
    "fig.show()"
   ]
  },
  {
   "cell_type": "code",
   "execution_count": 3,
   "id": "7b3bf098",
   "metadata": {},
   "outputs": [
    {
     "data": {
      "application/vnd.jupyter.widget-view+json": {
       "model_id": "e9994fb05e0c4d81a3f0c0ce3a3596c0",
       "version_major": 2,
       "version_minor": 0
      },
      "text/plain": [
       "interactive(children=(Dropdown(description='Année:', index=24, options=('2000', '2001', '2002', '2003', '2004'…"
      ]
     },
     "metadata": {},
     "output_type": "display_data"
    },
    {
     "data": {
      "text/plain": [
       "<function __main__.update_dashboard(annee)>"
      ]
     },
     "execution_count": 3,
     "metadata": {},
     "output_type": "execute_result"
    }
   ],
   "source": [
    "# 1. Préparation des données (si ce n'est pas déjà fait)\n",
    "def clean_number(x):\n",
    "    if isinstance(x, str):\n",
    "        return float(x.replace('\\u202f', '').replace(' ', '').replace(',', '.'))\n",
    "    return float(x)\n",
    "\n",
    "for col in conso_men.columns[1:]:\n",
    "    conso_men[col] = conso_men[col].apply(clean_number)\n",
    "\n",
    "# 2. Création du graphique avec sélecteur d'année\n",
    "import plotly.express as px\n",
    "import pandas as pd\n",
    "from ipywidgets import interact, widgets\n",
    "\n",
    "# Création d'une liste d'années disponibles\n",
    "annees = sorted(conso_men.columns[1:])  # Toutes les colonnes sauf 'Famille de produits'\n",
    "\n",
    "# Fonction pour mettre à jour le graphique\n",
    "def update_dashboard(annee):\n",
    "    # Préparation des données pour l'année sélectionnée\n",
    "    df_annee = conso_men[['Famille de produits', annee]].copy()\n",
    "    df_annee = df_annee.rename(columns={annee: 'Dépenses'})\n",
    "    \n",
    "    # Préparation du top 5\n",
    "    top5 = df_annee.nlargest(5, 'Dépenses').copy()\n",
    "    top5['Part (%)'] = (top5['Dépenses'] / top5['Dépenses'].sum() * 100).round(1)\n",
    "    \n",
    "    # Création du diagramme circulaire\n",
    "    fig = px.pie(\n",
    "        df_annee,\n",
    "        values='Dépenses',\n",
    "        names='Famille de produits',\n",
    "        height=800,\n",
    "        width=1000,\n",
    "        hole=0.3\n",
    "    )\n",
    "    \n",
    "    # Personnalisation du graphique\n",
    "    fig.update_traces(\n",
    "        textposition='inside',\n",
    "        textinfo='percent+label',\n",
    "        textfont_size=12,\n",
    "        marker=dict(line=dict(color='#FFFFFF', width=1))\n",
    "    )\n",
    "    \n",
    "    # Création du texte pour le top 5\n",
    "    top5_text = \"<b>🏆 TOP 5 des dépenses :</b><br>\"\n",
    "    for i, (_, row) in enumerate(top5.iterrows(), 1):\n",
    "        top5_text += f\"{i}. {row['Famille de produits']} : {row['Dépenses']:,.0f}€ ({row['Part (%)']}%)<br>\"\n",
    "    \n",
    "    # Ajout du top 5 comme annotation sous le titre\n",
    "    fig.add_annotation(\n",
    "        x=0.5,  # Centré\n",
    "        y=0.95,  # Position Y augmentée pour remonter\n",
    "        xref=\"paper\",\n",
    "        yref=\"paper\",\n",
    "        text=top5_text,\n",
    "        showarrow=False,\n",
    "        align=\"center\",\n",
    "        font=dict(size=11),\n",
    "        bordercolor=\"#d3d3d3\",\n",
    "        borderwidth=1,\n",
    "        borderpad=10,\n",
    "        bgcolor=\"white\",\n",
    "        opacity=0.9\n",
    "    )\n",
    "    \n",
    "    # Ajustement de la marge supérieure pour faire de la place au top 5\n",
    "    fig.update_layout(\n",
    "        margin=dict(l=50, r=50, t=5, b=50),  # Augmentation de la marge supérieure\n",
    "        legend=dict(\n",
    "            orientation=\"v\",\n",
    "            yanchor=\"middle\",\n",
    "            y=0.5,\n",
    "            xanchor=\"left\",\n",
    "            x=1.05,\n",
    "            font=dict(size=10)\n",
    "        ),\n",
    "        title=dict(\n",
    "            text=f'Répartition des dépenses par famille de produits en {annee} pour les ménages français',\n",
    "            y=0.98,  # Ajustement de la position du titre\n",
    "            yanchor='top'\n",
    "        ),\n",
    "        title_font_size=18,\n",
    "        showlegend=True\n",
    "    )\n",
    "    \n",
    "    fig.show()\n",
    "\n",
    "# Création et affichage du sélecteur d'année avec interact\n",
    "interact(\n",
    "    update_dashboard, \n",
    "    annee=widgets.Dropdown(\n",
    "        options=annees,\n",
    "        value=annees[-1],  # Dernière année par défaut\n",
    "        description='Année:',\n",
    "        style={'description_width': 'initial'}\n",
    "    )\n",
    ")"
   ]
  }
 ],
 "metadata": {
  "kernelspec": {
   "display_name": "Python 3",
   "language": "python",
   "name": "python3"
  },
  "language_info": {
   "codemirror_mode": {
    "name": "ipython",
    "version": 3
   },
   "file_extension": ".py",
   "mimetype": "text/x-python",
   "name": "python",
   "nbconvert_exporter": "python",
   "pygments_lexer": "ipython3",
   "version": "3.13.2"
  }
 },
 "nbformat": 4,
 "nbformat_minor": 5
}
