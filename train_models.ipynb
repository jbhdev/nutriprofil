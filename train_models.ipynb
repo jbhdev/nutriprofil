{
 "cells": [
  {
   "cell_type": "markdown",
   "id": "e3306c01",
   "metadata": {},
   "source": [
    "# 📊 Entraînement des modèles ML pour NutriProfil\n",
    "Ce notebook regroupe les entraînements et sauvegardes de tous les modèles :\n",
    "- Régression Lasso (prévision consommation)\n",
    "- Régression linéaire (charge glycémique)\n",
    "- RandomForestClassifier (risques : diabète, obésité, MCV, cancer colorectal)\n",
    "\n",
    "Les `.pkl` seront sauvegardés dans `streamlit/`.\n"
   ]
  },
  {
   "cell_type": "code",
   "execution_count": 1,
   "id": "031ac2fb",
   "metadata": {},
   "outputs": [
    {
     "name": "stdout",
     "output_type": "stream",
     "text": [
      "🔁 Déjà présent : streamlit\\diabete_risque_randomforest.pkl\n",
      "🔁 Déjà présent : streamlit\\obesite_risque_randomforest.pkl\n",
      "🔁 Déjà présent : streamlit\\mcv_risque_randomforest.pkl\n",
      "🔁 Déjà présent : streamlit\\cancercolorectal_risque_randomforest.pkl\n"
     ]
    }
   ],
   "source": [
    "# 📦 Imports\n",
    "import pandas as pd\n",
    "import numpy as np\n",
    "from sklearn.model_selection import train_test_split\n",
    "from sklearn.linear_model import LinearRegression, Lasso\n",
    "from sklearn.ensemble import RandomForestClassifier\n",
    "from sklearn.metrics import mean_squared_error, r2_score\n",
    "import joblib\n",
    "from pathlib import Path\n",
    "import os\n",
    "import requests\n",
    "\n",
    "# Dossier de destination\n",
    "destination_dir = \"streamlit\"\n",
    "os.makedirs(destination_dir, exist_ok=True)\n",
    "\n",
    "# URLs brutes de GitHub\n",
    "base_url = \"https://raw.githubusercontent.com/stevens75010/nutriprofil/main/streamlit/\"\n",
    "model_files = [\n",
    "    \"diabete_risque_randomforest.pkl\",\n",
    "    \"obesite_risque_randomforest.pkl\",\n",
    "    \"mcv_risque_randomforest.pkl\",\n",
    "    \"cancercolorectal_risque_randomforest.pkl\"\n",
    "]\n",
    "\n",
    "# Téléchargement automatique\n",
    "for filename in model_files:\n",
    "    file_url = base_url + filename\n",
    "    local_path = os.path.join(destination_dir, filename)\n",
    "    \n",
    "    if not os.path.exists(local_path):\n",
    "        print(f\"📥 Téléchargement de {filename}...\")\n",
    "        r = requests.get(file_url)\n",
    "        if r.status_code == 200:\n",
    "            with open(local_path, \"wb\") as f:\n",
    "                f.write(r.content)\n",
    "            print(f\"✅ Enregistré : {local_path}\")\n",
    "        else:\n",
    "            print(f\"❌ Échec du téléchargement : {file_url}\")\n",
    "    else:\n",
    "        print(f\"🔁 Déjà présent : {local_path}\")\n"
   ]
  },
  {
   "cell_type": "markdown",
   "id": "2d10da47",
   "metadata": {},
   "source": [
    "## 🔢 1. Modèle de prévision de consommation alimentaire (Lasso)"
   ]
  },
  {
   "cell_type": "code",
   "execution_count": 2,
   "id": "7d9097aa",
   "metadata": {},
   "outputs": [
    {
     "name": "stdout",
     "output_type": "stream",
     "text": [
      "R²: 0.9998725252973537\n"
     ]
    },
    {
     "data": {
      "text/plain": [
       "['streamlit/model_conso.pkl']"
      ]
     },
     "execution_count": 2,
     "metadata": {},
     "output_type": "execute_result"
    }
   ],
   "source": [
    "# Chargement des données conso\n",
    "df_conso = pd.read_csv('streamlit/data/conso-menages-2024.csv')\n",
    "cols = [str(y) for y in range(2010, 2025)]\n",
    "for col in cols:\n",
    "    df_conso[col] = df_conso[col].astype(str).str.replace(r'\\s+', '', regex=True).str.replace(',', '.').astype(float)\n",
    "\n",
    "X = df_conso[cols[:-1]]\n",
    "y = df_conso[cols[-1]]\n",
    "X_train, X_test, y_train, y_test = train_test_split(X, y, test_size=0.2, random_state=42)\n",
    "\n",
    "model_conso = Lasso()\n",
    "model_conso.fit(X_train, y_train)\n",
    "print(\"R²:\", r2_score(y_test, model_conso.predict(X_test)))\n",
    "joblib.dump(model_conso, 'streamlit/model_conso.pkl')"
   ]
  },
  {
   "cell_type": "markdown",
   "id": "c9076c9d",
   "metadata": {},
   "source": [
    "## 🍚 2. Modèle charge glycémique (régression linéaire)"
   ]
  },
  {
   "cell_type": "code",
   "execution_count": 3,
   "id": "c9fc3f18",
   "metadata": {},
   "outputs": [
    {
     "name": "stdout",
     "output_type": "stream",
     "text": [
      "R² CG: 0.8907643393336107\n"
     ]
    },
    {
     "data": {
      "text/plain": [
       "['streamlit/model_charge_glycémique.pkl']"
      ]
     },
     "execution_count": 3,
     "metadata": {},
     "output_type": "execute_result"
    }
   ],
   "source": [
    "# Chargement données aliments\n",
    "df_alim = pd.read_csv('streamlit/data/dataframe_complet_rempli_proteines.csv')\n",
    "df_alim['Famille_regroupee'] = df_alim['Famille_regroupee'].replace('Fruits et lÃ©gumes', 'Fruits et légumes')\n",
    "df_alim = pd.concat([df_alim, pd.get_dummies(df_alim['Famille_regroupee'], prefix='Famille', drop_first=True)], axis=1)\n",
    "\n",
    "X = df_alim.drop(columns=['Aliment', 'CG', 'Famille_regroupee','IG'])\n",
    "y = df_alim['CG']\n",
    "X_train, X_test, y_train, y_test = train_test_split(X, y, test_size=0.2, random_state=42)\n",
    "\n",
    "model_cg = LinearRegression()\n",
    "model_cg.fit(X_train, y_train)\n",
    "print(\"R² CG:\", r2_score(y_test, model_cg.predict(X_test)))\n",
    "joblib.dump(model_cg, 'streamlit/model_charge_glycémique.pkl')"
   ]
  },
  {
   "cell_type": "markdown",
   "id": "6c4c3590",
   "metadata": {},
   "source": [
    "## 🧠 3. Modèles de risques santé (RandomForestClassifier)"
   ]
  },
  {
   "cell_type": "code",
   "execution_count": 4,
   "id": "3c5b9f28",
   "metadata": {},
   "outputs": [
    {
     "name": "stdout",
     "output_type": "stream",
     "text": [
      "✅ diabete — R² approx : 0.5193704600484261\n",
      "✅ obesite — R² approx : 0.4648910411622276\n",
      "✅ mcv — R² approx : 0.48426150121065376\n",
      "✅ cancercolorectal — R² approx : 0.49878934624697335\n"
     ]
    }
   ],
   "source": [
    "# Réutilisation df_alim pour entraîner 4 modèles de classification binaire\n",
    "features = df_alim.drop(columns=['Aliment', 'Famille_regroupee', 'IG', 'CG'])\n",
    "targets = ['diabete', 'obesite', 'mcv', 'cancercolorectal']\n",
    "\n",
    "# Simuler des colonnes cibles aléatoires pour l'exemple (remplace par ton vrai DataFrame si dispo)\n",
    "for t in targets:\n",
    "    df_alim[t] = np.random.randint(0, 2, size=len(df_alim))\n",
    "\n",
    "for t in targets:\n",
    "    X_train, X_test, y_train, y_test = train_test_split(features, df_alim[t], test_size=0.2, random_state=42)\n",
    "    model = RandomForestClassifier()\n",
    "    model.fit(X_train, y_train)\n",
    "    joblib.dump(model, f'streamlit/{t}_risque_randomforest.pkl')\n",
    "    print(f\"✅ {t} — R² approx :\", model.score(X_test, y_test))"
   ]
  },
  {
   "cell_type": "code",
   "execution_count": 5,
   "id": "ee2e6412",
   "metadata": {},
   "outputs": [
    {
     "name": "stdout",
     "output_type": "stream",
     "text": [
      "✅ Présent : model_charge_glycémique.pkl\n",
      "✅ Présent : model_conso.pkl\n",
      "✅ Présent : diabete_risque_randomforest.pkl\n",
      "✅ Présent : obesite_risque_randomforest.pkl\n",
      "✅ Présent : mcv_risque_randomforest.pkl\n",
      "✅ Présent : cancercolorectal_risque_randomforest.pkl\n",
      "\n",
      "🎉 Tous les modèles sont bien présents !\n"
     ]
    }
   ],
   "source": [
    "# 🔍 Vérification des 6 fichiers modèles\n",
    "import os\n",
    "\n",
    "required_models = [\n",
    "    \"model_charge_glycémique.pkl\",\n",
    "    \"model_conso.pkl\",\n",
    "    \"diabete_risque_randomforest.pkl\",\n",
    "    \"obesite_risque_randomforest.pkl\",\n",
    "    \"mcv_risque_randomforest.pkl\",\n",
    "    \"cancercolorectal_risque_randomforest.pkl\"\n",
    "]\n",
    "\n",
    "missing = []\n",
    "for model in required_models:\n",
    "    path = os.path.join(\"streamlit\", model)\n",
    "    if os.path.exists(path):\n",
    "        print(f\"✅ Présent : {model}\")\n",
    "    else:\n",
    "        print(f\"❌ Manquant : {model}\")\n",
    "        missing.append(model)\n",
    "\n",
    "if not missing:\n",
    "    print(\"\\n🎉 Tous les modèles sont bien présents !\")\n",
    "else:\n",
    "    print(f\"\\n⚠️ Modèles manquants : {missing}\")\n"
   ]
  }
 ],
 "metadata": {
  "kernelspec": {
   "display_name": "Python 3",
   "language": "python",
   "name": "python3"
  },
  "language_info": {
   "codemirror_mode": {
    "name": "ipython",
    "version": 3
   },
   "file_extension": ".py",
   "mimetype": "text/x-python",
   "name": "python",
   "nbconvert_exporter": "python",
   "pygments_lexer": "ipython3",
   "version": "3.13.3"
  }
 },
 "nbformat": 4,
 "nbformat_minor": 5
}
