{
 "cells": [
  {
   "cell_type": "markdown",
   "id": "e3306c01",
   "metadata": {},
   "source": [
    "# 📊 Entraînement des modèles ML pour NutriProfil\n",
    "Ce notebook regroupe les entraînements et sauvegardes de tous les modèles :\n",
    "- Régression Lasso (prévision consommation)\n",
    "- Régression linéaire (charge glycémique)\n",
    "- RandomForestClassifier (risques : diabète, obésité, MCV, cancer colorectal)\n",
    "\n",
    "Les `.pkl` seront sauvegardés dans `streamlit/`.\n"
   ]
  },
  {
   "cell_type": "code",
   "execution_count": null,
   "id": "031ac2fb",
   "metadata": {},
   "outputs": [],
   "source": [
    "# 📦 Imports\n",
    "import pandas as pd\n",
    "import numpy as np\n",
    "from sklearn.model_selection import train_test_split\n",
    "from sklearn.linear_model import LinearRegression, Lasso\n",
    "from sklearn.ensemble import RandomForestClassifier\n",
    "from sklearn.metrics import mean_squared_error, r2_score\n",
    "import joblib\n",
    "from pathlib import Path\n"
   ]
  },
  {
   "cell_type": "markdown",
   "id": "2d10da47",
   "metadata": {},
   "source": [
    "## 🔢 1. Modèle de prévision de consommation alimentaire (Lasso)"
   ]
  },
  {
   "cell_type": "code",
   "execution_count": null,
   "id": "7d9097aa",
   "metadata": {},
   "outputs": [],
   "source": [
    "# Chargement des données conso\n",
    "df_conso = pd.read_csv('streamlit/data/conso-menages-2024.csv')\n",
    "cols = [str(y) for y in range(2010, 2025)]\n",
    "for col in cols:\n",
    "    df_conso[col] = df_conso[col].astype(str).str.replace(r'\\s+', '', regex=True).str.replace(',', '.').astype(float)\n",
    "\n",
    "X = df_conso[cols[:-1]]\n",
    "y = df_conso[cols[-1]]\n",
    "X_train, X_test, y_train, y_test = train_test_split(X, y, test_size=0.2, random_state=42)\n",
    "\n",
    "model_conso = Lasso()\n",
    "model_conso.fit(X_train, y_train)\n",
    "print(\"R²:\", r2_score(y_test, model_conso.predict(X_test)))\n",
    "joblib.dump(model_conso, 'streamlit/model_conso.pkl')"
   ]
  },
  {
   "cell_type": "markdown",
   "id": "c9076c9d",
   "metadata": {},
   "source": [
    "## 🍚 2. Modèle charge glycémique (régression linéaire)"
   ]
  },
  {
   "cell_type": "code",
   "execution_count": null,
   "id": "c9fc3f18",
   "metadata": {},
   "outputs": [],
   "source": [
    "# Chargement données aliments\n",
    "df_alim = pd.read_csv('streamlit/data/dataframe_complet_rempli_proteines.csv')\n",
    "df_alim['Famille_regroupee'] = df_alim['Famille_regroupee'].replace('Fruits et lÃ©gumes', 'Fruits et légumes')\n",
    "df_alim = pd.concat([df_alim, pd.get_dummies(df_alim['Famille_regroupee'], prefix='Famille', drop_first=True)], axis=1)\n",
    "\n",
    "X = df_alim.drop(columns=['Aliment', 'CG', 'Famille_regroupee','IG'])\n",
    "y = df_alim['CG']\n",
    "X_train, X_test, y_train, y_test = train_test_split(X, y, test_size=0.2, random_state=42)\n",
    "\n",
    "model_cg = LinearRegression()\n",
    "model_cg.fit(X_train, y_train)\n",
    "print(\"R² CG:\", r2_score(y_test, model_cg.predict(X_test)))\n",
    "joblib.dump(model_cg, 'streamlit/model_charge_glycémique.pkl')"
   ]
  },
  {
   "cell_type": "markdown",
   "id": "6c4c3590",
   "metadata": {},
   "source": [
    "## 🧠 3. Modèles de risques santé (RandomForestClassifier)"
   ]
  },
  {
   "cell_type": "code",
   "execution_count": null,
   "id": "3c5b9f28",
   "metadata": {},
   "outputs": [],
   "source": [
    "# Réutilisation df_alim pour entraîner 4 modèles de classification binaire\n",
    "features = df_alim.drop(columns=['Aliment', 'Famille_regroupee', 'IG', 'CG'])\n",
    "targets = ['diabete', 'obesite', 'mcv', 'cancercolorectal']\n",
    "\n",
    "# Simuler des colonnes cibles aléatoires pour l'exemple (remplace par ton vrai DataFrame si dispo)\n",
    "for t in targets:\n",
    "    df_alim[t] = np.random.randint(0, 2, size=len(df_alim))\n",
    "\n",
    "for t in targets:\n",
    "    X_train, X_test, y_train, y_test = train_test_split(features, df_alim[t], test_size=0.2, random_state=42)\n",
    "    model = RandomForestClassifier()\n",
    "    model.fit(X_train, y_train)\n",
    "    joblib.dump(model, f'streamlit/{t}_risque_randomforest.pkl')\n",
    "    print(f\"✅ {t} — R² approx :\", model.score(X_test, y_test))"
   ]
  }
 ],
 "metadata": {},
 "nbformat": 4,
 "nbformat_minor": 5
}
